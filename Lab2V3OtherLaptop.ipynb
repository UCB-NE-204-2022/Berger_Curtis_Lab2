{
 "cells": [
  {
   "cell_type": "code",
   "execution_count": 1,
   "id": "12655f52",
   "metadata": {},
   "outputs": [],
   "source": [
    "import h5py\n",
    "import numpy as np\n",
    "from scipy import signal\n",
    "from scipy.signal import savgol_filter\n",
    "from scipy.optimize import curve_fit\n",
    "from matplotlib import pyplot as plt\n",
    "import matplotlib.gridspec as gridspec\n",
    "import matplotlib as mpl\n",
    "from tqdm.notebook import tqdm\n",
    "from scipy.ndimage import gaussian_filter1d\n",
    "from scipy.signal import find_peaks\n",
    "from scipy.stats import norm\n",
    "from tabulate import tabulate\n",
    "import os\n",
    "import scipy.io as sio\n",
    "#os.environ['KMP_DUPLICATE_LIB_OK'] = 'True'\n",
    "import time\n",
    "PI = np.pi"
   ]
  },
  {
   "cell_type": "code",
   "execution_count": 132,
   "id": "d819c3cc",
   "metadata": {},
   "outputs": [],
   "source": [
    "def delay_signal(signal, delay=2000, w=500, seed=69):\n",
    "    np.random.seed(seed)\n",
    "    noise_samp = signal[:w]\n",
    "    mean, std = np.mean(noise_samp), np.std(noise_samp)\n",
    "    noise = np.random.normal(mean, 0.9*std, delay)\n",
    "    return np.hstack([noise, signal])\n",
    "\n",
    "def dkl(signal, i, k, l, w):\n",
    "    signal = delay_signal(signal, delay=w)\n",
    "    vj = signal[i+w:i+w+w]\n",
    "    vjk = signal[i-k+w:i+w+w-k]\n",
    "    vjl = signal[i-l+w:i+w+w-l]\n",
    "    vjkl = signal[i-k-l+w:i+w+w-k-l]\n",
    "    return vj - vjk - vjl + vjkl\n",
    "    \n",
    "def s(signal, start_rise, tau, peaking_time, gap_time, w=0):\n",
    "    if w == 0:\n",
    "        w = int(round(2.5*peaking_time+gap_time, 0))\n",
    "    ss = []\n",
    "    dkl_s = dkl(signal, start_rise, peaking_time, peaking_time+gap_time, w)\n",
    "    for j in range(w):\n",
    "        if j == 0:\n",
    "            ss.append(0)\n",
    "        else:\n",
    "            ss.append(ss[j-1]*(1+1/tau)+ dkl_s[j])\n",
    "    return np.array(ss)\n",
    "\n",
    "def get_kv2(v):\n",
    "    Max_Ind = np.argmax(v)\n",
    "    step = 10\n",
    "#     Peak_mu = np.mean(v[Max_Ind:Max_Ind+step])\n",
    "#     Peak_std = np.std(v[Max_Ind:Max_Ind+step])\n",
    "    maxmax_roof = np.max(v)\n",
    "#     mu_floor = np.mean(v[0:500])\n",
    "#     std_floor = np.std(v[0:500])\n",
    "    minmax_floor = np.max(v[0:200])\n",
    "    # now run through the array from 0 up to Max_Ind + 20\n",
    "    N = []\n",
    "\n",
    "#     for n in range(len(v[0:Max_Ind+step])):\n",
    "#         if ((v[n]>minmax_floor*2) and (v[n]<Peak_mu-Peak_std)):\n",
    "#             N.append(n)\n",
    "#     return np.array([N[0],N[-1], N[-1]-N[0]])\n",
    "\n",
    "    for n in range(len(v[0:Max_Ind+step])):\n",
    "        if ((v[n]>minmax_floor*1.8) and (v[n]<0.98*maxmax_roof)):\n",
    "            N.append(n)\n",
    "    return np.array([N[0],N[-1], N[-1]-N[0]])\n",
    "    #return np.array(N[0])\n",
    "    \n",
    "def DAQ_Echo(Time_Stamps):\n",
    "    echo_index = []\n",
    "    for n in range(len(times)-1):\n",
    "        if times[n+1]<times[n]:\n",
    "            echo_index.append(n)\n",
    "    return echo_index[0]\n",
    "    \n",
    "def Filter_Signals(v_raw):\n",
    "    v_raw = savgol_filter(v_raw, 51, 2) # maybe play with filtering\n",
    "    noise = np.mean(v_raw[0:100])\n",
    "    v = v_raw - noise\n",
    "    return v\n",
    "\n",
    "def only_get_rise(v):\n",
    "    Rise_Info = []\n",
    "    for n in range(v.shape[0]):\n",
    "        Rise_Info.append(get_kv2(v[n]))\n",
    "    return np.array(Rise_Info)\n",
    "\n",
    "def Filter_Signals_Get_Rise(Data):\n",
    "    Smooted_data = []\n",
    "    Rise_Info = []\n",
    "    for n in range(Data.shape[0]):\n",
    "        v_raw = savgol_filter(Data[n,:], 51, 2) # maybe play with filtering\n",
    "        noise = np.mean(v_raw[0:100])\n",
    "        v = v_raw - noise\n",
    "        try:\n",
    "            Rise_Info.append(get_kv2(v))\n",
    "            Smooted_data.append(v)\n",
    "        except Exception:\n",
    "            pass\n",
    "    return np.array(Smooted_data), np.array(Rise_Info)\n",
    "\n",
    "# def Filter_Signals_Get_Rise(Data,time_stamps):\n",
    "#     Smooted_data = []\n",
    "#     Rise_Info = []\n",
    "#     TS = DAQ_Echo(Time_Stamps=time_stamps)\n",
    "#     for n in range(TS):\n",
    "#         v_raw = savgol_filter(Data[n,:], 51, 2) # maybe play with filtering\n",
    "#         noise = np.mean(v_raw[0:100])\n",
    "#         v = v_raw - noise\n",
    "#         try:\n",
    "#             Rise_Info.append(get_kv2(v))\n",
    "#             Smooted_data.append(v)\n",
    "#         except Exception:\n",
    "#             pass\n",
    "#     return np.array(Smooted_data), np.array(Rise_Info)\n",
    "\n",
    "def Exp_Func(x,A,m):\n",
    "    return A*np.exp(-m*x)\n",
    "\n",
    "def Exp_Fit(x,y):\n",
    "    popt, pcov = curve_fit(Exp_Func,x,y)\n",
    "    return popt\n",
    "\n",
    "\n",
    "def gauss(x, H, A, x0, sigma):\n",
    "    return H + A * np.exp(-(x - x0) ** 2 / (2 * sigma ** 2))\n",
    "\n",
    "def gauss_fit(x, y):\n",
    "    mean = sum(x * y) / sum(y)\n",
    "    sigma = np.sqrt(sum(y * (x - mean) ** 2) / sum(y))\n",
    "    popt, pcov = curve_fit(gauss, x, y, p0=[min(y), max(y), mean, sigma])\n",
    "    return popt\n",
    "\n",
    "def Lin_Func(x,m,b):\n",
    "    return m*x+b\n",
    "\n",
    "def Lin_Fit(x,y):\n",
    "    popt, pcov = curve_fit(Lin_Func,x,y)\n",
    "    return popt\n",
    "\n",
    "def Energy_Func(x,b,a1,a2,a3,a4,a5):\n",
    "    return b + a1*x + a2*x**2 + a3*x**3 + a4*x**4 + a5*x**5\n",
    "\n",
    "def Energy_Fit(x,y):\n",
    "    popt, pcov = curve_fit(Energy_Func,x,y)\n",
    "    return popt\n",
    "\n",
    "def Generate_Trap_Amps(Signal_Dirr, file_name, K, GT, Tau):\n",
    "    os.chdir(Signal_Dirr)\n",
    "    f_name = file_name\n",
    "    f = h5py.File(f_name, 'r')\n",
    "    key1 = 'event_data'\n",
    "    key2 = 'raw_data'\n",
    "    branch1 = 'timestamp'\n",
    "#     times = f[key1][branch1]\n",
    "#     times = np.array(times)\n",
    "    Data = f[key2]\n",
    "    Data = np.array(Data)\n",
    "    #Signals_Smooth = [Filter_Signals(Data[n,:]) for n in range(Data.shape[0])]\n",
    "    Signals_Smooth, Rise_Info = Filter_Signals_Get_Rise(Data)\n",
    "    #Signals_Smooth, Rise_Info = Filter_Signals_Get_Rise(Data,times)\n",
    "    print('The Smoothing is complete')\n",
    "    DL = Signals_Smooth.shape[0]\n",
    "    #Rise_Info = np.array([get_kv2(Signals_Smooth[n]) for n in range(Data.shape[0])])\n",
    "    k = Rise_Info[:,2] # rise time\n",
    "    r = Rise_Info[:,1] # end rise\n",
    "    i = Rise_Info[:,0] # start rise\n",
    "    mean_k = int(np.mean(k)) # mean rise time\n",
    "    print('the mean value for k is ',mean_k)\n",
    "    V = np.array(Signals_Smooth)\n",
    "    if K == 0:\n",
    "        K = mean_k\n",
    "    else:\n",
    "        K = K\n",
    "    \n",
    "    trappy = np.array([s(signal=V[n], start_rise=i[n], tau=Tau, peaking_time=K,gap_time=GT) for n in range(DL)])\n",
    "    \n",
    "    Y = []\n",
    "    for n in range(DL):\n",
    "        Y.append(np.max(trappy[n]))\n",
    "    Y = np.array(Y)\n",
    "    \n",
    "    return Y\n",
    "\n",
    "def Generate_Trap_Amps_pre_smoothed_and_loaded(v, K, GT, Tau):\n",
    "    #Signals_Smooth = [Filter_Signals(Data[n,:]) for n in range(Data.shape[0])]\n",
    "    _, Rise_Info = Filter_Signals_Get_Rise(Data)\n",
    "    #Signals_Smooth, Rise_Info = Filter_Signals_Get_Rise(Data,times)\n",
    "    print('The Smoothing is complete')\n",
    "    DL = v.shape[0]\n",
    "    k = Rise_Info[:,2] # rise time\n",
    "    r = Rise_Info[:,1] # end rise\n",
    "    i = Rise_Info[:,0] # start rise\n",
    "    mean_k = int(np.mean(k)) # mean rise time\n",
    "    print('the mean value for k is ',mean_k)\n",
    "    if K == 0:\n",
    "        K = mean_k\n",
    "    else:\n",
    "        K = K\n",
    "    \n",
    "    trappy = np.array([s(signal=v[n], start_rise=i[n], tau=Tau, peaking_time=K,gap_time=GT) for n in range(DL)])\n",
    "    \n",
    "    Y = []\n",
    "    for n in range(DL):\n",
    "        Y.append(np.max(trappy[n]))\n",
    "    Y = np.array(Y)\n",
    "    \n",
    "    return Y\n",
    "\n",
    "def Get_Hist_Mus(Y,Upperlimit,Del,Source):\n",
    "    Cond1 = Y>Upperlimit\n",
    "    Y[Cond1] = 0\n",
    "    # Create 2x2 sub plots\n",
    "    H, binz = np.histogram(Y,bins=2**11)\n",
    "#     peaks, _ = find_peaks(H[2:-1], height=np.argmax(H[2:-1]))\n",
    "#     bin_peaks = np.sort(binz[peaks])\n",
    "    Mus = []\n",
    "    stds = []\n",
    "    if Source == 'Cs137':\n",
    "        peak, _ = find_peaks(H[2:-1], height=np.max(H[2:-1]))\n",
    "        ind = [binz[peak]]\n",
    "    else:\n",
    "        peak1, _ = find_peaks(H[2:-1], height=np.max(H[2:-1]))\n",
    "        ind1 = binz[peak1]\n",
    "        x1,x2 = ind1-Del, ind1+Del\n",
    "        b0 = np.argmin(np.abs(binz - x1))\n",
    "        b1 = np.argmin(np.abs(binz - x2))\n",
    "        fp = gauss_fit(binz[b0:b1], H[b0:b1])\n",
    "        x = binz[b0:b1] \n",
    "        gf = fp[0] + fp[1]*np.exp(-(x - fp[2]) ** 2 / (2 * fp[3] ** 2))\n",
    "        # plt.show()\n",
    "        Hnew = np.copy(H)\n",
    "        change = Hnew[b0:b1] - gf\n",
    "        Hnew[b0:b1] = change\n",
    "        peak2 = np.argmax(Hnew[2:-1])\n",
    "        \n",
    "        ind = [binz[peak1], binz[peak2]]\n",
    "\n",
    "    for n in range(len(ind)):\n",
    "        x1,x2 = ind[n]-Del, ind[n]+Del\n",
    "        b0 = np.argmin(np.abs(binz - x1))\n",
    "        b1 = np.argmin(np.abs(binz - x2))\n",
    "        fp = gauss_fit(binz[b0:b1], H[b0:b1])\n",
    "        offset, A, mu, std = fp\n",
    "        Mus.append(mu)\n",
    "        stds.append(std)\n",
    "        Res = 2*np.sqrt(2*np.log(2))*100*std/mu\n",
    "        print('The res is ',Res)\n",
    "\n",
    "        #plt.figure(figsize=(8,6))\n",
    "        #plotting\n",
    "        gs = gridspec.GridSpec(2, 2)\n",
    "        fig = plt.figure(figsize=(8,6))\n",
    "        ax1 = fig.add_subplot(gs[0, :]) # row 0, span all columns\n",
    "        ax2 = fig.add_subplot(gs[1, 0]) # row 1, col 0\n",
    "        ax3 = fig.add_subplot(gs[1, 1]) # row 1, col 1\n",
    "        \n",
    "        ax1.hist(Y, bins=2**11)\n",
    "        ax1.set_title(Source)\n",
    "        \n",
    "        ax2.hist(Y, bins=2**11)\n",
    "        ax2.plot(binz[b0:b1], gauss(binz[b0:b1], *fp),label='Res='+str(round(Res,3))+'%')\n",
    "        ax2.set_title(Source+' with Gaussian Fit Overlay',fontsize=10)\n",
    "        ax2.legend()\n",
    "        ax3.plot(binz[b0:b1], H[b0:b1])\n",
    "        ax3.plot(binz[b0:b1], gauss(binz[b0:b1], *fp))\n",
    "        title = \"Fit results \"+Source+\": $\\mu$ = %.2f,  $\\sigma$ = %.2f\" % (mu, std)\n",
    "        ax3.set_title(title,fontsize=10)\n",
    "        #plt.show()\n",
    "        fig.tight_layout()\n",
    "        #fig.show()\n",
    "    return np.array(Mus), np.array(stds)\n",
    "\n",
    "    \n",
    "def Get_Hist_Mus_calibrated(Y,Upperlimit,Del,Source,Calb):\n",
    "    Cond1 = Y>Upperlimit\n",
    "    Y[Cond1] = 0\n",
    "    # Create 2x2 sub plots\n",
    "    H, binz = np.histogram(Y,bins=2**11)\n",
    "    Del = Lin_Func(Del,*Calb)\n",
    "    binz = Lin_Func(binz,*Calb)\n",
    "#     peaks, _ = find_peaks(H[2:-1], height=np.argmax(H[2:-1]))\n",
    "#     bin_peaks = np.sort(binz[peaks])\n",
    "    Mus = []\n",
    "    if Source == 'Cs137':\n",
    "        peak, _ = find_peaks(H[2:-1], height=np.max(H[2:-1]))\n",
    "        ind = [binz[peak]]\n",
    "    else:\n",
    "        peak1, _ = find_peaks(H[2:-1], height=np.max(H[2:-1]))\n",
    "        ind1 = binz[peak1]\n",
    "        x1,x2 = ind1-Del, ind1+Del\n",
    "        b0 = np.argmin(np.abs(binz - x1))\n",
    "        b1 = np.argmin(np.abs(binz - x2))\n",
    "        fp = gauss_fit(binz[b0:b1], H[b0:b1])\n",
    "        x = binz[b0:b1] \n",
    "        gf = fp[0] + fp[1]*np.exp(-(x - fp[2]) ** 2 / (2 * fp[3] ** 2))\n",
    "        # plt.show()\n",
    "        Hnew = np.copy(H)\n",
    "        change = Hnew[b0:b1] - gf\n",
    "        Hnew[b0:b1] = change\n",
    "        peak2 = np.argmax(Hnew[2:-1])\n",
    "        \n",
    "        ind = [binz[peak1], binz[peak2]]\n",
    "\n",
    "    for n in range(len(ind)):\n",
    "        x1,x2 = ind[n]-Del, ind[n]+Del\n",
    "        b0 = np.argmin(np.abs(binz - x1))\n",
    "        b1 = np.argmin(np.abs(binz - x2))\n",
    "        fp = gauss_fit(binz[b0:b1], H[b0:b1])\n",
    "        offset, A, mu, std = fp\n",
    "        Mus.append(mu)\n",
    "        Res = 2*np.sqrt(2*np.log(2))*100*std/mu\n",
    "        print('The res is ',Res)\n",
    "\n",
    "        #plt.figure(figsize=(8,6))\n",
    "        #plotting\n",
    "        gs = gridspec.GridSpec(2, 2)\n",
    "        fig = plt.figure(figsize=(8,6))\n",
    "        ax1 = fig.add_subplot(gs[0, :]) # row 0, span all columns\n",
    "        ax2 = fig.add_subplot(gs[1, 0]) # row 1, col 0\n",
    "        ax3 = fig.add_subplot(gs[1, 1]) # row 1, col 1\n",
    "        \n",
    "        #ax1.hist(Y, bins=2**11)\n",
    "        ax1.hist(binz[:-1], binz, weights=H)\n",
    "        ax1.set_title(Source)\n",
    "        \n",
    "        #ax2.bar(binz[:-1],H)\n",
    "        ax2.hist(binz[:-1], binz, weights=H)\n",
    "        ax2.plot(binz[b0:b1], gauss(binz[b0:b1], *fp),label='Res='+str(round(Res,3))+'%')\n",
    "        ax2.set_title(Source+' with Gaussian Fit Overlay',fontsize=10)\n",
    "        ax2.legend()\n",
    "        ax3.plot(binz[b0:b1], H[b0:b1])\n",
    "        ax3.plot(binz[b0:b1], gauss(binz[b0:b1], *fp))\n",
    "        title = \"Fit results \"+Source+\": $\\mu$ = %.2f\" % (mu)\n",
    "        ax3.set_title(title,fontsize=10)\n",
    "        #plt.show()\n",
    "        fig.tight_layout()\n",
    "        #fig.show()\n",
    "    return np.array(Mus)\n",
    "    \n",
    "\n",
    "def Reduce_Histo(H,binz,Ind,Del):\n",
    "    x1,x2 = Ind-Del, Ind+Del\n",
    "    b0 = np.argmin(np.abs(binz - x1))\n",
    "    b1 = np.argmin(np.abs(binz - x2))\n",
    "    fp = gauss_fit(binz[b0:b1], H[b0:b1])\n",
    "#     offset, A, mu, std = test_gauss\n",
    "#     Res = 2*np.sqrt(2*np.log(2))*100*std/mu\n",
    "    x = binz[b0:b1] \n",
    "    gf = fp[0] + fp[1]*np.exp(-(x - fp[2]) ** 2 / (2 * fp[3] ** 2))\n",
    "    # plt.show()\n",
    "    Hnew = np.copy(H)\n",
    "    #change = Hnew[b0:b1] - gf\n",
    "    change = Hnew[b0:b1] - Hnew[b0:b1]\n",
    "    Hnew[b0:b1] = change\n",
    "    peak = np.argmax(Hnew[2:-1])\n",
    "\n",
    "    return Hnew, peak\n",
    "\n",
    "\n",
    "\n",
    "\n",
    "def Get_Hist_Mus_calibrated_V1(Y,Upperlimit,Del,Source,num_peaks,Bin_Arr):\n",
    "    Cond1 = Y>Upperlimit\n",
    "    Y[Cond1] = 0\n",
    "    # Create 2x2 sub plots\n",
    "    if Source == 'Th228':\n",
    "        Cond2 = Y<6.0E+04\n",
    "        Y[Cond2] = 0\n",
    "    \n",
    "    H, binz = np.histogram(Y,bins=Bin_Arr)\n",
    "#     peaks, _ = find_peaks(H[2:-1], height=np.argmax(H[2:-1]))\n",
    "#     bin_peaks = np.sort(binz[peaks])\n",
    "    Mus = []\n",
    "    stds = []\n",
    "    ind = []\n",
    "    ind.append(binz[np.argmax(H[2:-1])])\n",
    "    H_mod = np.copy(H)\n",
    "    for i in range(num_peaks-1):\n",
    "        Max_Ind = np.argmax(H_mod[2:-1])\n",
    "        Max_Ind = binz[Max_Ind]\n",
    "        H_mod, Peak = Reduce_Histo(H=H_mod, binz=binz, Ind=Max_Ind, Del=Del)\n",
    "        ind.append(binz[Peak])\n",
    "\n",
    "    for n in range(len(ind)):\n",
    "        x1,x2 = ind[n]-Del, ind[n]+Del\n",
    "        b0 = np.argmin(np.abs(binz - x1))\n",
    "        b1 = np.argmin(np.abs(binz - x2))\n",
    "        fp = gauss_fit(binz[b0:b1], H[b0:b1])\n",
    "        offset, A, mu, std = fp\n",
    "        Res = 2*np.sqrt(2*np.log(2))*100*std/mu\n",
    "        if Res<5:\n",
    "            Mus.append(mu)\n",
    "            stds.append(std)\n",
    "        print('The res is ',Res)\n",
    "\n",
    "        #plt.figure(figsize=(8,6))\n",
    "        #plotting\n",
    "        gs = gridspec.GridSpec(2, 2)\n",
    "        fig = plt.figure(figsize=(8,6))\n",
    "        ax1 = fig.add_subplot(gs[0, :]) # row 0, span all columns\n",
    "        ax2 = fig.add_subplot(gs[1, 0]) # row 1, col 0\n",
    "        ax3 = fig.add_subplot(gs[1, 1]) # row 1, col 1\n",
    "\n",
    "        #ax1.hist(Y, bins=2**11)\n",
    "        ax1.hist(binz[:-1], binz, weights=H)\n",
    "        ax1.set_title(Source)\n",
    "\n",
    "        #ax2.bar(binz[:-1],H)\n",
    "        ax2.hist(binz[:-1], binz, weights=H)\n",
    "        ax2.plot(binz[b0:b1], gauss(binz[b0:b1], *fp),label='Res='+str(round(Res,3))+'%')\n",
    "        ax2.set_title(Source+' with Gaussian Fit Overlay',fontsize=10)\n",
    "        ax2.legend()\n",
    "        ax3.plot(binz[b0:b1], H[b0:b1])\n",
    "        ax3.plot(binz[b0:b1], gauss(binz[b0:b1], *fp))\n",
    "        title = \"Fit results \"+Source+\": $\\mu$ = %.2f\" % (mu)\n",
    "        ax3.set_title(title,fontsize=10)\n",
    "        #plt.show()\n",
    "        fig.tight_layout()\n",
    "        #fig.show()\n",
    "    return np.array(Mus), np.array(stds)\n",
    "\n",
    "\n",
    "def Get_Hist_Mus_calibrated_V2(Y,Upperlimit,Del,Source,Calb,num_peaks):\n",
    "    Cond1 = Y>Upperlimit\n",
    "    Y[Cond1] = 0\n",
    "    # Create 2x2 sub plots\n",
    "    if Source == 'Th228':\n",
    "        Cond2 = Y<6.0E+04\n",
    "        Y[Cond2] = 0\n",
    "    \n",
    "    H, binz = np.histogram(Y,bins=2**11)\n",
    "    Del = Energy_Func(Del,*Calb)\n",
    "    binz = Energy_Func(binz,*Calb)\n",
    "\n",
    "#     peaks, _ = find_peaks(H[2:-1], height=np.argmax(H[2:-1]))\n",
    "#     bin_peaks = np.sort(binz[peaks])\n",
    "    Mus = []\n",
    "    ind = []\n",
    "    ind.append(binz[np.argmax(H[2:-1])])\n",
    "    H_mod = np.copy(H)\n",
    "    for i in range(num_peaks-1):\n",
    "        Max_Ind = np.argmax(H_mod[2:-1])\n",
    "        Max_Ind = binz[Max_Ind]\n",
    "        H_mod, Peak = Reduce_Histo(H=H_mod, binz=binz, Ind=Max_Ind, Del=Del)\n",
    "        ind.append(binz[Peak])\n",
    "\n",
    "    for n in range(len(ind)):\n",
    "        x1,x2 = ind[n]-Del, ind[n]+Del\n",
    "        b0 = np.argmin(np.abs(binz - x1))\n",
    "        b1 = np.argmin(np.abs(binz - x2))\n",
    "        fp = gauss_fit(binz[b0:b1], H[b0:b1])\n",
    "        offset, A, mu, std = fp\n",
    "        Res = 2*np.sqrt(2*np.log(2))*100*std/mu\n",
    "        if Res<5:\n",
    "            Mus.append(mu)\n",
    "        print('The res is ',Res)\n",
    "\n",
    "        #plt.figure(figsize=(8,6))\n",
    "        #plotting\n",
    "        gs = gridspec.GridSpec(2, 2)\n",
    "        fig = plt.figure(figsize=(8,6))\n",
    "        ax1 = fig.add_subplot(gs[0, :]) # row 0, span all columns\n",
    "        ax2 = fig.add_subplot(gs[1, 0]) # row 1, col 0\n",
    "        ax3 = fig.add_subplot(gs[1, 1]) # row 1, col 1\n",
    "\n",
    "        #ax1.hist(Y, bins=2**11)\n",
    "        ax1.hist(binz[:-1], binz, weights=H)\n",
    "        ax1.set_title(Source)\n",
    "\n",
    "        #ax2.bar(binz[:-1],H)\n",
    "        ax2.hist(binz[:-1], binz, weights=H)\n",
    "        ax2.plot(binz[b0:b1], gauss(binz[b0:b1], *fp),label='Res='+str(round(Res,3))+'%')\n",
    "        ax2.set_title(Source+' with Gaussian Fit Overlay',fontsize=10)\n",
    "        ax2.legend()\n",
    "        ax3.plot(binz[b0:b1], H[b0:b1])\n",
    "        ax3.plot(binz[b0:b1], gauss(binz[b0:b1], *fp))\n",
    "        title = \"Fit results \"+Source+\": $\\mu$ = %.2f\" % (mu)\n",
    "        ax3.set_title(title,fontsize=10)\n",
    "        #plt.show()\n",
    "        fig.tight_layout()\n",
    "        #fig.show()\n",
    "    return np.array(Mus)\n",
    "\n",
    "def Get_Ballistics(Y,Upperlimit,Del,Source,Calb,num_peaks):\n",
    "    Cond1 = Y>Upperlimit\n",
    "    Y[Cond1] = 0\n",
    "    # Create 2x2 sub plots\n",
    "    if Source == 'Th228':\n",
    "        Cond2 = Y<6.0E+04\n",
    "        Y[Cond2] = 0\n",
    "    \n",
    "    H, binz = np.histogram(Y,bins=2**11)\n",
    "    Del = Energy_Func(Del,*Calb)\n",
    "    binz = Energy_Func(binz,*Calb)\n",
    "#     peaks, _ = find_peaks(H[2:-1], height=np.argmax(H[2:-1]))\n",
    "#     bin_peaks = np.sort(binz[peaks])\n",
    "    Mus = []\n",
    "    Resz = []\n",
    "    ind = []\n",
    "    ind.append(binz[np.argmax(H[2:-1])])\n",
    "    H_mod = np.copy(H)\n",
    "    for i in range(num_peaks-1):\n",
    "        Max_Ind = np.argmax(H_mod[2:-1])\n",
    "        Max_Ind = binz[Max_Ind]\n",
    "        H_mod, Peak = Reduce_Histo(H=H_mod, binz=binz, Ind=Max_Ind, Del=Del)\n",
    "        ind.append(binz[Peak])\n",
    "\n",
    "    for n in range(len(ind)):\n",
    "        x1,x2 = ind[n]-Del, ind[n]+Del\n",
    "        b0 = np.argmin(np.abs(binz - x1))\n",
    "        b1 = np.argmin(np.abs(binz - x2))\n",
    "        fp = gauss_fit(binz[b0:b1], H[b0:b1])\n",
    "        offset, A, mu, std = fp\n",
    "        Res = 2*np.sqrt(2*np.log(2))*100*std/mu\n",
    "        Mus.append(mu)\n",
    "        Resz.append(Res)\n",
    "        print('The res is ',Res)\n",
    "\n",
    "        #plt.figure(figsize=(8,6))\n",
    "        #plotting\n",
    "        gs = gridspec.GridSpec(2, 2)\n",
    "        fig = plt.figure(figsize=(8,6))\n",
    "        ax1 = fig.add_subplot(gs[0, :]) # row 0, span all columns\n",
    "        ax2 = fig.add_subplot(gs[1, 0]) # row 1, col 0\n",
    "        ax3 = fig.add_subplot(gs[1, 1]) # row 1, col 1\n",
    "\n",
    "        #ax1.hist(Y, bins=2**11)\n",
    "        ax1.hist(binz[:-1], binz, weights=H)\n",
    "        ax1.set_title(Source)\n",
    "\n",
    "        #ax2.bar(binz[:-1],H)\n",
    "        ax2.hist(binz[:-1], binz, weights=H)\n",
    "        ax2.plot(binz[b0:b1], gauss(binz[b0:b1], *fp),label='Res='+str(round(Res,3))+'%')\n",
    "        ax2.set_title(Source+' with Gaussian Fit Overlay',fontsize=10)\n",
    "        ax2.legend()\n",
    "        ax3.plot(binz[b0:b1], H[b0:b1])\n",
    "        ax3.plot(binz[b0:b1], gauss(binz[b0:b1], *fp))\n",
    "        title = \"Fit results \"+Source+\": $\\mu$ = %.2f\" % (mu)\n",
    "        ax3.set_title(title,fontsize=10)\n",
    "        #plt.show()\n",
    "        fig.tight_layout()\n",
    "        #fig.show()\n",
    "    return np.array(Mus), np.array(Resz)\n",
    "\n",
    "\n",
    "def Create_Calibrated_Spectrums(Y,Calb,Upperlimit):\n",
    "    Cond1 = Y>Upperlimit\n",
    "    Y[Cond1] = 0\n",
    "    H, binz= np.histogram(Y,bins=2**11)\n",
    "    binz = Energy_Func(binz,*Calb)\n",
    "    return H, binz\n",
    "#     #fig = plt.figure()\n",
    "#     plt.hist(binz[:-1], binz, weights=H, histtype='step')\n",
    "#     plt.semilogy()\n",
    "#     plt.xlabel('[keV]')\n",
    "#     plt.ylabel('Counts')\n",
    "#     plt.xlim(1,binz[-1]+100)\n",
    "#     #plt.show()\n",
    "#     plt.hold()\n"
   ]
  },
  {
   "cell_type": "markdown",
   "id": "2fe54b14",
   "metadata": {},
   "source": [
    "# Load the trapezoid amplitudes.\n",
    "\n",
    "### Assign amplitudes to a list to plot later\n",
    "### Assign thresholds to a list to display plots correctly and clean up the display. As long as we dont cut into the peak, its fine. Its just for displaying purposes. The Commented upper limits were the thresholds we used when fitting."
   ]
  },
  {
   "cell_type": "code",
   "execution_count": 3,
   "id": "ee7f891c",
   "metadata": {},
   "outputs": [],
   "source": [
    "# Loading the trapezoids\n",
    "os.chdir(r'C:\\Users\\Curtis\\Documents\\jup\\data')\n",
    "Trapezoids = sio.loadmat('Lab1_Trapezoids_Echo.mat')\n",
    "y_cs137 = Trapezoids['Cs137'].reshape(-1) # upperlimimt is 1.95E+05\n",
    "y_co57 = Trapezoids['Co57'].reshape(-1) # upperlimimt is 9.0E+04\n",
    "y_co60 = Trapezoids['Co60'].reshape(-1) # upperlimimt is 1.0E+06\n",
    "y_Th228 = Trapezoids['Th228'].reshape(-1) # upperlimimt is 0.8E+06\n",
    "\n",
    "ys = []\n",
    "ys.append(y_cs137)\n",
    "ys.append(y_co57)\n",
    "ys.append(y_co60)\n",
    "ys.append(y_Th228)\n",
    "ULS = []\n",
    "ULS.append(1.95E+05)\n",
    "ULS.append(9.0E+04)\n",
    "ULS.append(1.0E+06)\n",
    "ULS.append(1.8E+06)"
   ]
  },
  {
   "cell_type": "markdown",
   "id": "a5148ec8",
   "metadata": {},
   "source": [
    "# Load the Energy Calibration File Parameters."
   ]
  },
  {
   "cell_type": "code",
   "execution_count": 48,
   "id": "05d0453b",
   "metadata": {},
   "outputs": [
    {
     "name": "stdout",
     "output_type": "stream",
     "text": [
      "-3.2195840647582052\n"
     ]
    }
   ],
   "source": [
    "os.chdir(r'C:\\Users\\Curtis\\Documents\\jup\\data')\n",
    "ECalb = sio.loadmat('ECalb.mat')['Energy_Calb'][0]\n",
    "print(Energy_Func(0.46,*ECalb))# uncertainty to the gaussian fits and so also the FWHM?"
   ]
  },
  {
   "cell_type": "markdown",
   "id": "a9408261",
   "metadata": {},
   "source": [
    "# Create Calibrated Spectrum"
   ]
  },
  {
   "cell_type": "code",
   "execution_count": 5,
   "id": "b1e32a18",
   "metadata": {},
   "outputs": [
    {
     "data": {
      "application/vnd.jupyter.widget-view+json": {
       "model_id": "fe94eb6bb0ef417d90cee4e4d5b560ce",
       "version_major": 2,
       "version_minor": 0
      },
      "text/plain": [
       "Canvas(toolbar=Toolbar(toolitems=[('Home', 'Reset original view', 'home', 'home'), ('Back', 'Back to previous …"
      ]
     },
     "metadata": {},
     "output_type": "display_data"
    }
   ],
   "source": [
    "%matplotlib widget\n",
    "\n",
    "Hs = []\n",
    "for n in range(len(ys)):\n",
    "    Hs.append(Create_Calibrated_Spectrums(Y=ys[n],Calb=ECalb,Upperlimit=ULS[n]))\n",
    "\n",
    "    \n",
    "labels = ['$^{137}$Cs', '$^{57}$Co', '$^{60}$Co', '$^{228}$Th']\n",
    "plt.figure(figsize=(6,4),dpi=140)\n",
    "for i in range(len(ys)):\n",
    "    plt.hist(Hs[i][1][:-1], Hs[i][1], weights=Hs[i][0], histtype='step',label=labels[i], alpha=0.99/(0.2*i+1))\n",
    "    #plt.xlim(1,3000)\n",
    "    plt.legend()\n",
    "plt.title('Calibrated Spectrums',fontsize=14)\n",
    "plt.xlim(1,3000)\n",
    "plt.semilogy()\n",
    "plt.xlabel('keV',fontsize=12)\n",
    "plt.ylabel('Counts',fontsize=12)\n",
    "plt.show()\n"
   ]
  },
  {
   "cell_type": "code",
   "execution_count": 6,
   "id": "1068b966",
   "metadata": {},
   "outputs": [
    {
     "data": {
      "application/vnd.jupyter.widget-view+json": {
       "model_id": "857bf4719e0c4ffbbf222d1538ba8e70",
       "version_major": 2,
       "version_minor": 0
      },
      "text/plain": [
       "Canvas(toolbar=Toolbar(toolitems=[('Home', 'Reset original view', 'home', 'home'), ('Back', 'Back to previous …"
      ]
     },
     "metadata": {},
     "output_type": "display_data"
    },
    {
     "data": {
      "application/vnd.jupyter.widget-view+json": {
       "model_id": "65d38020568741ea91f766ccb0963d83",
       "version_major": 2,
       "version_minor": 0
      },
      "text/plain": [
       "Canvas(toolbar=Toolbar(toolitems=[('Home', 'Reset original view', 'home', 'home'), ('Back', 'Back to previous …"
      ]
     },
     "metadata": {},
     "output_type": "display_data"
    },
    {
     "name": "stdout",
     "output_type": "stream",
     "text": [
      "(4801,)\n"
     ]
    }
   ],
   "source": [
    "%matplotlib widget\n",
    "\n",
    "Yc = Energy_Func(y_cs137,*ECalb)\n",
    "plt.figure()\n",
    "plt.hist(y_cs137,bins=2**11)\n",
    "\n",
    "plt.figure()\n",
    "plt.hist(Yc,bins=2**11)\n",
    "\n",
    "Is = np.array(np.where((Yc>650) & (Yc<670))).reshape(-1)\n",
    "print(Is.shape)\n"
   ]
  },
  {
   "cell_type": "code",
   "execution_count": 7,
   "id": "d9922a83",
   "metadata": {},
   "outputs": [],
   "source": [
    "#KMeans clustering\n",
    "from sklearn.cluster import KMeans\n",
    "def cluster_data(data, n_clust, end, buff=50, quality=True):\n",
    "    kmeans = KMeans(init='random', n_clusters=n_clust, n_init=10, max_iter=2000, random_state=int(time.time()))\n",
    "    kmeans.fit(data)\n",
    "   \n",
    "    clusts = kmeans.labels_\n",
    "   \n",
    "    # Attempting FOM creation\n",
    "    if quality:\n",
    "        avg_err = []\n",
    "        for i in notebook.tqdm(range(len(clusts)), leave=False):\n",
    "            weight = np.zeros(len(data[i]))\n",
    "            weight[100:end[i]+buff] = np.ones((end[i]+buff)-100)\n",
    "            weight = weight/sum(weight)\n",
    "            val = weight*np.abs((data[i]-kmeans.cluster_centers_[kmeans.labels_[i]])/kmeans.cluster_centers_[kmeans.labels_[i]])\n",
    "            avg_err.append(np.mean(val))\n",
    "\n",
    "        return n_clust, np.mean(np.array(avg_err))\n",
    "    else:\n",
    "        return n_clust, kmeans"
   ]
  },
  {
   "cell_type": "markdown",
   "id": "76b7a78b",
   "metadata": {},
   "source": [
    "# Load the raw data, smooth, and cluster"
   ]
  },
  {
   "cell_type": "code",
   "execution_count": 8,
   "id": "b393078d",
   "metadata": {},
   "outputs": [],
   "source": [
    "Signal_Dirr = r'C:\\Users\\Curtis\\Documents\\jup\\data'\n",
    "os.chdir(Signal_Dirr)\n",
    "f_name = r'Cs137-24in-2.h5'\n",
    "#f_name = r'EJ-301-Test-Cs137-close-10sec_3.h5'\n",
    "f = h5py.File(f_name, 'r')\n",
    "key1 = 'event_data'\n",
    "key2 = 'raw_data'\n",
    "branch1 = 'timestamp'\n",
    "#     times = f[key1][branch1]\n",
    "#     times = np.array(times)\n",
    "Data = f[key2]\n",
    "Data = np.array(Data)\n",
    "v,_ = Filter_Signals_Get_Rise(Data)\n"
   ]
  },
  {
   "cell_type": "markdown",
   "id": "23e8148f",
   "metadata": {},
   "source": [
    "# Testing how the trapezoid distriubtion looks with different slicing"
   ]
  },
  {
   "cell_type": "code",
   "execution_count": 103,
   "id": "9223cc6d",
   "metadata": {},
   "outputs": [
    {
     "name": "stdout",
     "output_type": "stream",
     "text": [
      "The Smoothing is complete\n",
      "the mean value for k is  1222\n"
     ]
    },
    {
     "ename": "ValueError",
     "evalue": "operands could not be broadcast together with shapes (1335,) (2165,) ",
     "output_type": "error",
     "traceback": [
      "\u001b[1;31m---------------------------------------------------------------------------\u001b[0m",
      "\u001b[1;31mValueError\u001b[0m                                Traceback (most recent call last)",
      "\u001b[1;32m<ipython-input-103-09b3edd3858b>\u001b[0m in \u001b[0;36m<module>\u001b[1;34m\u001b[0m\n\u001b[1;32m----> 1\u001b[1;33m \u001b[0mT_\u001b[0m \u001b[1;33m=\u001b[0m \u001b[0mGenerate_Trap_Amps_pre_smoothed_and_loaded\u001b[0m\u001b[1;33m(\u001b[0m\u001b[0mv\u001b[0m\u001b[1;33m=\u001b[0m\u001b[0mv\u001b[0m\u001b[1;33m[\u001b[0m\u001b[1;33m:\u001b[0m\u001b[1;33m,\u001b[0m\u001b[1;36m0\u001b[0m\u001b[1;33m:\u001b[0m\u001b[1;36m3000\u001b[0m\u001b[1;33m]\u001b[0m\u001b[1;33m,\u001b[0m \u001b[0mK\u001b[0m\u001b[1;33m=\u001b[0m\u001b[1;36m830\u001b[0m\u001b[1;33m,\u001b[0m \u001b[0mGT\u001b[0m\u001b[1;33m=\u001b[0m\u001b[1;36m800\u001b[0m\u001b[1;33m,\u001b[0m \u001b[0mTau\u001b[0m\u001b[1;33m=\u001b[0m\u001b[1;36m12617\u001b[0m\u001b[1;33m)\u001b[0m\u001b[1;33m\u001b[0m\u001b[1;33m\u001b[0m\u001b[0m\n\u001b[0m",
      "\u001b[1;32m<ipython-input-102-e10e6231a577>\u001b[0m in \u001b[0;36mGenerate_Trap_Amps_pre_smoothed_and_loaded\u001b[1;34m(v, K, GT, Tau)\u001b[0m\n\u001b[0;32m    175\u001b[0m         \u001b[0mK\u001b[0m \u001b[1;33m=\u001b[0m \u001b[0mK\u001b[0m\u001b[1;33m\u001b[0m\u001b[1;33m\u001b[0m\u001b[0m\n\u001b[0;32m    176\u001b[0m \u001b[1;33m\u001b[0m\u001b[0m\n\u001b[1;32m--> 177\u001b[1;33m     \u001b[0mtrappy\u001b[0m \u001b[1;33m=\u001b[0m \u001b[0mnp\u001b[0m\u001b[1;33m.\u001b[0m\u001b[0marray\u001b[0m\u001b[1;33m(\u001b[0m\u001b[1;33m[\u001b[0m\u001b[0ms\u001b[0m\u001b[1;33m(\u001b[0m\u001b[0msignal\u001b[0m\u001b[1;33m=\u001b[0m\u001b[0mv\u001b[0m\u001b[1;33m[\u001b[0m\u001b[0mn\u001b[0m\u001b[1;33m]\u001b[0m\u001b[1;33m,\u001b[0m \u001b[0mstart_rise\u001b[0m\u001b[1;33m=\u001b[0m\u001b[0mi\u001b[0m\u001b[1;33m[\u001b[0m\u001b[0mn\u001b[0m\u001b[1;33m]\u001b[0m\u001b[1;33m,\u001b[0m \u001b[0mtau\u001b[0m\u001b[1;33m=\u001b[0m\u001b[0mTau\u001b[0m\u001b[1;33m,\u001b[0m \u001b[0mpeaking_time\u001b[0m\u001b[1;33m=\u001b[0m\u001b[0mK\u001b[0m\u001b[1;33m,\u001b[0m\u001b[0mgap_time\u001b[0m\u001b[1;33m=\u001b[0m\u001b[0mGT\u001b[0m\u001b[1;33m)\u001b[0m \u001b[1;32mfor\u001b[0m \u001b[0mn\u001b[0m \u001b[1;32min\u001b[0m \u001b[0mrange\u001b[0m\u001b[1;33m(\u001b[0m\u001b[0mDL\u001b[0m\u001b[1;33m)\u001b[0m\u001b[1;33m]\u001b[0m\u001b[1;33m)\u001b[0m\u001b[1;33m\u001b[0m\u001b[1;33m\u001b[0m\u001b[0m\n\u001b[0m\u001b[0;32m    178\u001b[0m \u001b[1;33m\u001b[0m\u001b[0m\n\u001b[0;32m    179\u001b[0m     \u001b[0mY\u001b[0m \u001b[1;33m=\u001b[0m \u001b[1;33m[\u001b[0m\u001b[1;33m]\u001b[0m\u001b[1;33m\u001b[0m\u001b[1;33m\u001b[0m\u001b[0m\n",
      "\u001b[1;32m<ipython-input-102-e10e6231a577>\u001b[0m in \u001b[0;36m<listcomp>\u001b[1;34m(.0)\u001b[0m\n\u001b[0;32m    175\u001b[0m         \u001b[0mK\u001b[0m \u001b[1;33m=\u001b[0m \u001b[0mK\u001b[0m\u001b[1;33m\u001b[0m\u001b[1;33m\u001b[0m\u001b[0m\n\u001b[0;32m    176\u001b[0m \u001b[1;33m\u001b[0m\u001b[0m\n\u001b[1;32m--> 177\u001b[1;33m     \u001b[0mtrappy\u001b[0m \u001b[1;33m=\u001b[0m \u001b[0mnp\u001b[0m\u001b[1;33m.\u001b[0m\u001b[0marray\u001b[0m\u001b[1;33m(\u001b[0m\u001b[1;33m[\u001b[0m\u001b[0ms\u001b[0m\u001b[1;33m(\u001b[0m\u001b[0msignal\u001b[0m\u001b[1;33m=\u001b[0m\u001b[0mv\u001b[0m\u001b[1;33m[\u001b[0m\u001b[0mn\u001b[0m\u001b[1;33m]\u001b[0m\u001b[1;33m,\u001b[0m \u001b[0mstart_rise\u001b[0m\u001b[1;33m=\u001b[0m\u001b[0mi\u001b[0m\u001b[1;33m[\u001b[0m\u001b[0mn\u001b[0m\u001b[1;33m]\u001b[0m\u001b[1;33m,\u001b[0m \u001b[0mtau\u001b[0m\u001b[1;33m=\u001b[0m\u001b[0mTau\u001b[0m\u001b[1;33m,\u001b[0m \u001b[0mpeaking_time\u001b[0m\u001b[1;33m=\u001b[0m\u001b[0mK\u001b[0m\u001b[1;33m,\u001b[0m\u001b[0mgap_time\u001b[0m\u001b[1;33m=\u001b[0m\u001b[0mGT\u001b[0m\u001b[1;33m)\u001b[0m \u001b[1;32mfor\u001b[0m \u001b[0mn\u001b[0m \u001b[1;32min\u001b[0m \u001b[0mrange\u001b[0m\u001b[1;33m(\u001b[0m\u001b[0mDL\u001b[0m\u001b[1;33m)\u001b[0m\u001b[1;33m]\u001b[0m\u001b[1;33m)\u001b[0m\u001b[1;33m\u001b[0m\u001b[1;33m\u001b[0m\u001b[0m\n\u001b[0m\u001b[0;32m    178\u001b[0m \u001b[1;33m\u001b[0m\u001b[0m\n\u001b[0;32m    179\u001b[0m     \u001b[0mY\u001b[0m \u001b[1;33m=\u001b[0m \u001b[1;33m[\u001b[0m\u001b[1;33m]\u001b[0m\u001b[1;33m\u001b[0m\u001b[1;33m\u001b[0m\u001b[0m\n",
      "\u001b[1;32m<ipython-input-102-e10e6231a577>\u001b[0m in \u001b[0;36ms\u001b[1;34m(signal, start_rise, tau, peaking_time, gap_time, w)\u001b[0m\n\u001b[0;32m     18\u001b[0m         \u001b[0mw\u001b[0m \u001b[1;33m=\u001b[0m \u001b[0mint\u001b[0m\u001b[1;33m(\u001b[0m\u001b[0mround\u001b[0m\u001b[1;33m(\u001b[0m\u001b[1;36m2.5\u001b[0m\u001b[1;33m*\u001b[0m\u001b[0mpeaking_time\u001b[0m\u001b[1;33m+\u001b[0m\u001b[0mgap_time\u001b[0m\u001b[1;33m,\u001b[0m \u001b[1;36m0\u001b[0m\u001b[1;33m)\u001b[0m\u001b[1;33m)\u001b[0m\u001b[1;33m\u001b[0m\u001b[1;33m\u001b[0m\u001b[0m\n\u001b[0;32m     19\u001b[0m     \u001b[0mss\u001b[0m \u001b[1;33m=\u001b[0m \u001b[1;33m[\u001b[0m\u001b[1;33m]\u001b[0m\u001b[1;33m\u001b[0m\u001b[1;33m\u001b[0m\u001b[0m\n\u001b[1;32m---> 20\u001b[1;33m     \u001b[0mdkl_s\u001b[0m \u001b[1;33m=\u001b[0m \u001b[0mdkl\u001b[0m\u001b[1;33m(\u001b[0m\u001b[0msignal\u001b[0m\u001b[1;33m,\u001b[0m \u001b[0mstart_rise\u001b[0m\u001b[1;33m,\u001b[0m \u001b[0mpeaking_time\u001b[0m\u001b[1;33m,\u001b[0m \u001b[0mpeaking_time\u001b[0m\u001b[1;33m+\u001b[0m\u001b[0mgap_time\u001b[0m\u001b[1;33m,\u001b[0m \u001b[0mw\u001b[0m\u001b[1;33m)\u001b[0m\u001b[1;33m\u001b[0m\u001b[1;33m\u001b[0m\u001b[0m\n\u001b[0m\u001b[0;32m     21\u001b[0m     \u001b[1;32mfor\u001b[0m \u001b[0mj\u001b[0m \u001b[1;32min\u001b[0m \u001b[0mrange\u001b[0m\u001b[1;33m(\u001b[0m\u001b[0mw\u001b[0m\u001b[1;33m)\u001b[0m\u001b[1;33m:\u001b[0m\u001b[1;33m\u001b[0m\u001b[1;33m\u001b[0m\u001b[0m\n\u001b[0;32m     22\u001b[0m         \u001b[1;32mif\u001b[0m \u001b[0mj\u001b[0m \u001b[1;33m==\u001b[0m \u001b[1;36m0\u001b[0m\u001b[1;33m:\u001b[0m\u001b[1;33m\u001b[0m\u001b[1;33m\u001b[0m\u001b[0m\n",
      "\u001b[1;32m<ipython-input-102-e10e6231a577>\u001b[0m in \u001b[0;36mdkl\u001b[1;34m(signal, i, k, l, w)\u001b[0m\n\u001b[0;32m     12\u001b[0m     \u001b[0mvjl\u001b[0m \u001b[1;33m=\u001b[0m \u001b[0msignal\u001b[0m\u001b[1;33m[\u001b[0m\u001b[0mi\u001b[0m\u001b[1;33m-\u001b[0m\u001b[0ml\u001b[0m\u001b[1;33m+\u001b[0m\u001b[0mw\u001b[0m\u001b[1;33m:\u001b[0m\u001b[0mi\u001b[0m\u001b[1;33m+\u001b[0m\u001b[0mw\u001b[0m\u001b[1;33m+\u001b[0m\u001b[0mw\u001b[0m\u001b[1;33m-\u001b[0m\u001b[0ml\u001b[0m\u001b[1;33m]\u001b[0m\u001b[1;33m\u001b[0m\u001b[1;33m\u001b[0m\u001b[0m\n\u001b[0;32m     13\u001b[0m     \u001b[0mvjkl\u001b[0m \u001b[1;33m=\u001b[0m \u001b[0msignal\u001b[0m\u001b[1;33m[\u001b[0m\u001b[0mi\u001b[0m\u001b[1;33m-\u001b[0m\u001b[0mk\u001b[0m\u001b[1;33m-\u001b[0m\u001b[0ml\u001b[0m\u001b[1;33m+\u001b[0m\u001b[0mw\u001b[0m\u001b[1;33m:\u001b[0m\u001b[0mi\u001b[0m\u001b[1;33m+\u001b[0m\u001b[0mw\u001b[0m\u001b[1;33m+\u001b[0m\u001b[0mw\u001b[0m\u001b[1;33m-\u001b[0m\u001b[0mk\u001b[0m\u001b[1;33m-\u001b[0m\u001b[0ml\u001b[0m\u001b[1;33m]\u001b[0m\u001b[1;33m\u001b[0m\u001b[1;33m\u001b[0m\u001b[0m\n\u001b[1;32m---> 14\u001b[1;33m     \u001b[1;32mreturn\u001b[0m \u001b[0mvj\u001b[0m \u001b[1;33m-\u001b[0m \u001b[0mvjk\u001b[0m \u001b[1;33m-\u001b[0m \u001b[0mvjl\u001b[0m \u001b[1;33m+\u001b[0m \u001b[0mvjkl\u001b[0m\u001b[1;33m\u001b[0m\u001b[1;33m\u001b[0m\u001b[0m\n\u001b[0m\u001b[0;32m     15\u001b[0m \u001b[1;33m\u001b[0m\u001b[0m\n\u001b[0;32m     16\u001b[0m \u001b[1;32mdef\u001b[0m \u001b[0ms\u001b[0m\u001b[1;33m(\u001b[0m\u001b[0msignal\u001b[0m\u001b[1;33m,\u001b[0m \u001b[0mstart_rise\u001b[0m\u001b[1;33m,\u001b[0m \u001b[0mtau\u001b[0m\u001b[1;33m,\u001b[0m \u001b[0mpeaking_time\u001b[0m\u001b[1;33m,\u001b[0m \u001b[0mgap_time\u001b[0m\u001b[1;33m,\u001b[0m \u001b[0mw\u001b[0m\u001b[1;33m=\u001b[0m\u001b[1;36m0\u001b[0m\u001b[1;33m)\u001b[0m\u001b[1;33m:\u001b[0m\u001b[1;33m\u001b[0m\u001b[1;33m\u001b[0m\u001b[0m\n",
      "\u001b[1;31mValueError\u001b[0m: operands could not be broadcast together with shapes (1335,) (2165,) "
     ]
    }
   ],
   "source": [
    "T_ = Generate_Trap_Amps_pre_smoothed_and_loaded(v=v[:,0:3000], K=830, GT=800, Tau=12617)"
   ]
  },
  {
   "cell_type": "code",
   "execution_count": 89,
   "id": "52c99bad",
   "metadata": {},
   "outputs": [
    {
     "name": "stdout",
     "output_type": "stream",
     "text": [
      "-124554.73990918515\n",
      "124554.73990918515\n",
      "The res is  1.0087789834364187\n"
     ]
    },
    {
     "data": {
      "application/vnd.jupyter.widget-view+json": {
       "model_id": "92646de21d00476e8c665ad5b335d85e",
       "version_major": 2,
       "version_minor": 0
      },
      "text/plain": [
       "Canvas(toolbar=Toolbar(toolitems=[('Home', 'Reset original view', 'home', 'home'), ('Back', 'Back to previous …"
      ]
     },
     "metadata": {},
     "output_type": "display_data"
    },
    {
     "data": {
      "text/plain": [
       "array([325.33865896])"
      ]
     },
     "execution_count": 89,
     "metadata": {},
     "output_type": "execute_result"
    }
   ],
   "source": [
    "tmu = 662\n",
    "plt.close('all')\n",
    "Trap_temp_Transform = Energy_Func(T_,*ECalb)\n",
    "target_Ind = np.array(np.where(Trap_temp_Transform>=662)).reshape(-1)\n",
    "# Peak_Ind = np.argmax(Trap_temp_Transform)\n",
    "# print(Trap_temp_Transform[target_Ind[0]])\n",
    "# print(Trap_temp_Transform[Peak_Ind])\n",
    "newmu = np.mean(Trap_temp_Transform)\n",
    "delmu = np.mean(T_) - 185563.15\n",
    "print(delmu)\n",
    "if delmu<0:\n",
    "    shift = -delmu\n",
    "if delmu>0:\n",
    "    shift = delmu\n",
    "print(shift)\n",
    "Get_Hist_Mus_calibrated_V2(Y=T_,Upperlimit=1.95E+05,Del=8000,Source='Cs137',Calb=ECalb,num_peaks=1)"
   ]
  },
  {
   "cell_type": "code",
   "execution_count": 92,
   "id": "be90c585",
   "metadata": {},
   "outputs": [
    {
     "name": "stdout",
     "output_type": "stream",
     "text": [
      "(16145, 62500)\n",
      "the shape of y is (11344, 62500)\n",
      "(4801, 62500)\n",
      "(4801, 3000)\n"
     ]
    },
    {
     "data": {
      "application/vnd.jupyter.widget-view+json": {
       "model_id": "3fde255fbc5c4ca384c66e443494204b",
       "version_major": 2,
       "version_minor": 0
      },
      "text/plain": [
       "Canvas(toolbar=Toolbar(toolitems=[('Home', 'Reset original view', 'home', 'home'), ('Back', 'Back to previous …"
      ]
     },
     "metadata": {},
     "output_type": "display_data"
    }
   ],
   "source": [
    "print(v.shape)\n",
    "V = v[Is]\n",
    "mask=np.full(v.shape[0],True,dtype=bool)\n",
    "mask[Is]=False\n",
    "y=v[mask]\n",
    "z=v[~mask]\n",
    "print('the shape of y is',y.shape)\n",
    "print(z.shape)\n",
    "with h5py.File('DataUnclusteredV3.h5', 'w') as hf:\n",
    "    hf.create_dataset(\"dataset\",  data=y)\n",
    "# xtarget = 1300\n",
    "# Threshold = 0.20*xtarget\n",
    "\n",
    "# def Filter_PileUp(v):\n",
    "#     v_ = []\n",
    "#     xtarget = 1300\n",
    "#     Threshold = 0.20*xtarget\n",
    "#     for i in range(v.shape[0]):\n",
    "#         maxI = np.argmax(v[i])\n",
    "#         modv = np.gradient(v[i,2000:])\n",
    "#         Maxmodv = np.max(modv)\n",
    "#         #print(Maxmodv,np.mean(modv))\n",
    "#         if ((maxI < xtarget+Threshold) & (maxI>xtarget-Threshold) & (Maxmodv < 0.5)):\n",
    "#             v_.append(v[i])\n",
    "#     return np.array(v_)\n",
    "# newV = Filter_PileUp(V)\n",
    "# print(V.shape)\n",
    "# print(newV.shape)\n",
    "# plt.figure()\n",
    "newV = V[:,0:3000]\n",
    "print(newV.shape)\n",
    "plt.figure()\n",
    "for i in range(200):\n",
    "    plt.plot(newV[i])\n",
    "#start exponential fit at x=1800    \n",
    "#N, kMs = cluster_data(v[Is], n_clust=50, end=1, buff=50, quality=False)"
   ]
  },
  {
   "cell_type": "markdown",
   "id": "13af896e",
   "metadata": {},
   "source": [
    "## Evidence of pile up/ charge trapping. I dont think we want to cluster on the bad pulses but we have filtered them."
   ]
  },
  {
   "cell_type": "code",
   "execution_count": 138,
   "id": "f5967fe3",
   "metadata": {},
   "outputs": [
    {
     "name": "stdout",
     "output_type": "stream",
     "text": [
      "100\n",
      "KMeans(init='random', max_iter=2000, n_clusters=100, random_state=1668998947)\n"
     ]
    }
   ],
   "source": [
    " \n",
    "N, kMs = cluster_data(newV, n_clust=100, end=1, buff=50, quality=False)\n",
    "print(N)\n",
    "print(kMs)"
   ]
  },
  {
   "cell_type": "code",
   "execution_count": 139,
   "id": "1f760c3d",
   "metadata": {},
   "outputs": [
    {
     "name": "stdout",
     "output_type": "stream",
     "text": [
      "92158310.71376\n",
      "3000\n",
      "[22 65 60 ... 92 28 42]\n",
      "(4801,)\n"
     ]
    },
    {
     "data": {
      "application/vnd.jupyter.widget-view+json": {
       "model_id": "9f98792bf70f45f699f6a2eb74c2dcee",
       "version_major": 2,
       "version_minor": 0
      },
      "text/plain": [
       "Canvas(toolbar=Toolbar(toolitems=[('Home', 'Reset original view', 'home', 'home'), ('Back', 'Back to previous …"
      ]
     },
     "metadata": {},
     "output_type": "display_data"
    }
   ],
   "source": [
    "%matplotlib widget\n",
    "print(kMs.inertia_)\n",
    "print(kMs.n_features_in_)\n",
    "print(kMs.labels_) # these labels assign which pulse goes into which mean-vlaue pulse. It is these mean value pulses\n",
    "# we ought to optimize fro trabezoidal filteirng\n",
    "Centroids = kMs.cluster_centers_ \n",
    "print(kMs.labels_.shape)\n",
    "Labls = kMs.labels_\n",
    "\n",
    "plt.figure()\n",
    "for i in range(Centroids.shape[0]):\n",
    "    plt.plot(Centroids[i])"
   ]
  },
  {
   "cell_type": "code",
   "execution_count": 95,
   "id": "45aef4ff",
   "metadata": {},
   "outputs": [],
   "source": [
    "import pandas as pd\n",
    "import numpy.ma as ma\n",
    "#def Group_Signals_By_Label(v,Labls):\n",
    "    "
   ]
  },
  {
   "cell_type": "code",
   "execution_count": 96,
   "id": "a78b5bf8",
   "metadata": {},
   "outputs": [
    {
     "name": "stdout",
     "output_type": "stream",
     "text": [
      "             0         1         2         3         4         5         6  \\\n",
      "0     1.654584  1.471560  1.295467  1.126305  0.964074  0.808775  0.660406   \n",
      "1    -2.236729 -2.145709 -2.055146 -1.965040 -1.875391 -1.786200 -1.697465   \n",
      "2    -0.458418 -0.386102 -0.317000 -0.251111 -0.188437 -0.128976 -0.072730   \n",
      "3    -0.944746 -0.923142 -0.900836 -0.877827 -0.854115 -0.829700 -0.804583   \n",
      "4    -0.320928 -0.372464 -0.421283 -0.467386 -0.510772 -0.551441 -0.589393   \n",
      "...        ...       ...       ...       ...       ...       ...       ...   \n",
      "4796  1.762325  1.664725  1.569667  1.477152  1.387180  1.299752  1.214867   \n",
      "4797  0.966360  0.925011  0.885416  0.847575  0.811489  0.777157  0.744579   \n",
      "4798  1.943808  1.838705  1.737233  1.639395  1.545188  1.454614  1.367673   \n",
      "4799  2.529202  2.349050  2.173085  2.001308  1.833719  1.670317  1.511103   \n",
      "4800 -0.557869 -0.459520 -0.365699 -0.276406 -0.191640 -0.111402 -0.035691   \n",
      "\n",
      "             7         8         9  ...        2991        2992        2993  \\\n",
      "0     0.518969  0.384462  0.256887  ...  193.431200  193.300031  193.207300   \n",
      "1    -1.609188 -1.521368 -1.434006  ...  192.249056  192.279906  192.138703   \n",
      "2    -0.019697  0.030121  0.076726  ...  192.632287  192.460347  192.250081   \n",
      "3    -0.778762 -0.752239 -0.725012  ...  191.391805  191.397513  191.476088   \n",
      "4    -0.624629 -0.657148 -0.686951  ...  192.000281  192.143478  192.249483   \n",
      "...        ...       ...       ...  ...         ...         ...         ...   \n",
      "4796  1.132525  1.052726  0.975470  ...  191.103476  191.062275  190.997064   \n",
      "4797  0.713755  0.684686  0.657370  ...  191.798338  191.672854  191.355474   \n",
      "4798  1.284364  1.204687  1.128643  ...  192.707340  192.653500  192.620294   \n",
      "4799  1.356077  1.205238  1.058586  ...  192.058610  191.995347  191.815796   \n",
      "4800  0.035492  0.102147  0.164274  ...  192.233596  192.086344  192.059707   \n",
      "\n",
      "            2994        2995        2996        2997        2998        2999  \\\n",
      "0     193.232011  193.326895  193.327257  193.233325  193.056198  193.113096   \n",
      "1     192.244798  192.175329  191.919422  191.691739  191.400362  191.204208   \n",
      "2     192.300705  192.467481  192.535750  192.674417  192.910572  192.822914   \n",
      "3     191.510336  191.582863  191.543609  191.631629  191.729050  192.066520   \n",
      "4     192.398207  192.545911  192.574722  192.625165  192.906123  192.985581   \n",
      "...          ...         ...         ...         ...         ...         ...   \n",
      "4796  191.070135  190.984062  190.759708  190.717828  190.723218  190.616738   \n",
      "4797  191.349426  191.277986  191.029056  191.035716  191.015172  190.873107   \n",
      "4798  192.543803  192.498841  192.090520  191.913528  191.720341  191.797127   \n",
      "4799  191.584330  191.766667  191.703970  191.686167  191.660889  191.602405   \n",
      "4800  191.945028  192.072663  192.122993  191.994587  191.661035  191.422003   \n",
      "\n",
      "      ClusterId  \n",
      "0             6  \n",
      "1             5  \n",
      "2             1  \n",
      "3             5  \n",
      "4             4  \n",
      "...         ...  \n",
      "4796          2  \n",
      "4797          6  \n",
      "4798          0  \n",
      "4799          2  \n",
      "4800          9  \n",
      "\n",
      "[4801 rows x 3001 columns]\n",
      "             0         1         2         3         4         5         6  \\\n",
      "3337 -0.112158 -0.113391 -0.115567 -0.118686 -0.122749 -0.127755 -0.133704   \n",
      "699  -0.791308 -0.800160 -0.808513 -0.816369 -0.823727 -0.830587 -0.836949   \n",
      "705  -0.505462 -0.479190 -0.453485 -0.428346 -0.403773 -0.379766 -0.356326   \n",
      "3352  1.659938  1.446808  1.242967  1.048417  0.863157  0.687187  0.520507   \n",
      "4290 -0.631794 -0.482442 -0.338795 -0.200852 -0.068613  0.057921  0.178751   \n",
      "...        ...       ...       ...       ...       ...       ...       ...   \n",
      "2839  0.005104  0.086095  0.164145  0.239255  0.311425  0.380655  0.446946   \n",
      "2837 -1.168718 -1.034221 -0.904988 -0.781020 -0.662317 -0.548877 -0.440702   \n",
      "2826  2.072517  1.975466  1.880950  1.788970  1.699525  1.612616  1.528242   \n",
      "4150 -0.118033 -0.071493 -0.025737  0.019234  0.063422  0.106825  0.149445   \n",
      "4800 -0.557869 -0.459520 -0.365699 -0.276406 -0.191640 -0.111402 -0.035691   \n",
      "\n",
      "             7         8         9  ...        2991        2992        2993  \\\n",
      "3337 -0.140597 -0.148433 -0.157212  ...  194.365032  194.241088  194.090281   \n",
      "699  -0.842812 -0.848178 -0.853046  ...  193.688466  193.581963  193.409388   \n",
      "705  -0.333452 -0.311144 -0.289402  ...  192.156539  192.128521  192.221886   \n",
      "3352  0.363118  0.215019  0.076210  ...  191.669122  191.486083  191.404360   \n",
      "4290  0.293876  0.403297  0.507013  ...  193.748253  193.751899  193.613210   \n",
      "...        ...       ...       ...  ...         ...         ...         ...   \n",
      "2839  0.510296  0.570706  0.628176  ...  193.298250  193.230185  193.039036   \n",
      "2837 -0.337792 -0.240145 -0.147763  ...  193.183652  193.431585  193.380871   \n",
      "2826  1.446404  1.367101  1.290333  ...  191.057721  190.798304  190.721043   \n",
      "4150  0.191280  0.232331  0.272599  ...  191.170976  191.080578  191.188168   \n",
      "4800  0.035492  0.102147  0.164274  ...  192.233596  192.086344  192.059707   \n",
      "\n",
      "            2994        2995        2996        2997        2998        2999  \\\n",
      "3337  193.907287  193.665696  193.353729  193.083032  193.018977  192.669886   \n",
      "699   193.122338  193.158986  193.213212  193.114546  193.081635  192.905368   \n",
      "705   192.204423  192.188228  192.137354  192.099075  192.235454  192.166913   \n",
      "3352  191.300530  191.336884  191.526107  191.475505  191.339353  191.308367   \n",
      "4290  193.596584  193.380362  193.418256  193.528021  193.592915  193.387180   \n",
      "...          ...         ...         ...         ...         ...         ...   \n",
      "2839  193.083975  192.975660  192.964924  192.889928  192.977336  192.888841   \n",
      "2837  193.300348  193.426217  193.335162  193.408119  193.212237  193.006140   \n",
      "2826  190.728472  190.714723  190.712888  190.422848  190.306560  190.210204   \n",
      "4150  191.113942  191.087871  191.018266  191.031856  191.145970  190.938627   \n",
      "4800  191.945028  192.072663  192.122993  191.994587  191.661035  191.422003   \n",
      "\n",
      "      ClusterId  \n",
      "3337          0  \n",
      "699           0  \n",
      "705           0  \n",
      "3352          0  \n",
      "4290          0  \n",
      "...         ...  \n",
      "2839          9  \n",
      "2837          9  \n",
      "2826          9  \n",
      "4150          9  \n",
      "4800          9  \n",
      "\n",
      "[4801 rows x 3001 columns]\n"
     ]
    }
   ],
   "source": [
    "df = pd.DataFrame(newV)\n",
    "df['ClusterId']=Labls\n",
    "print(df)\n",
    "DF = df.sort_values(by = 'ClusterId')\n",
    "print(DF)\n",
    "\n",
    "#DF.to_csv('raw_data.csv', index=False)"
   ]
  },
  {
   "cell_type": "code",
   "execution_count": 97,
   "id": "c666f69d",
   "metadata": {},
   "outputs": [
    {
     "name": "stdout",
     "output_type": "stream",
     "text": [
      "[0. 0. 0. ... 9. 9. 9.]\n"
     ]
    }
   ],
   "source": [
    "Data_Arr = np.array(DF)\n",
    "print(Data_Arr[:,-1])\n",
    "#np.savetxt('Data.txt',Data_Arr)\n",
    "#DF.to_hdf('data.h5', key='DF', mode='w')  "
   ]
  },
  {
   "cell_type": "code",
   "execution_count": 98,
   "id": "b283396e",
   "metadata": {},
   "outputs": [
    {
     "name": "stdout",
     "output_type": "stream",
     "text": [
      "<KeysViewHDF5 ['dataset']>\n",
      "[[-1.12157954e-01 -1.13390772e-01 -1.15566900e-01 ...  1.93018977e+02\n",
      "   1.92669886e+02  0.00000000e+00]\n",
      " [-7.91307808e-01 -8.00159512e-01 -8.08513251e-01 ...  1.93081635e+02\n",
      "   1.92905368e+02  0.00000000e+00]\n",
      " [-5.05461783e-01 -4.79190119e-01 -4.53484720e-01 ...  1.92235454e+02\n",
      "   1.92166913e+02  0.00000000e+00]\n",
      " ...\n",
      " [ 2.07251672e+00  1.97546558e+00  1.88094991e+00 ...  1.90306560e+02\n",
      "   1.90210204e+02  9.00000000e+00]\n",
      " [-1.18032832e-01 -7.14930900e-02 -2.57374060e-02 ...  1.91145970e+02\n",
      "   1.90938627e+02  9.00000000e+00]\n",
      " [-5.57869138e-01 -4.59520295e-01 -3.65699127e-01 ...  1.91661035e+02\n",
      "   1.91422003e+02  9.00000000e+00]]\n"
     ]
    }
   ],
   "source": [
    "with h5py.File('Datahdf5V3.h5', 'w') as hf:\n",
    "    hf.create_dataset(\"dataset\",  data=Data_Arr)\n",
    "\n",
    "F_name = r'Datahdf5V3.h5'\n",
    "F = h5py.File(F_name, 'r')\n",
    "print(F.keys())\n",
    "print(np.array(F['dataset']))"
   ]
  },
  {
   "cell_type": "code",
   "execution_count": 113,
   "id": "2c90a21e",
   "metadata": {
    "scrolled": true
   },
   "outputs": [
    {
     "name": "stdout",
     "output_type": "stream",
     "text": [
      "(456, 3000)\n"
     ]
    },
    {
     "data": {
      "application/vnd.jupyter.widget-view+json": {
       "model_id": "8c5ebe41b1b448a3981af248625628b2",
       "version_major": 2,
       "version_minor": 0
      },
      "text/plain": [
       "Canvas(toolbar=Toolbar(toolitems=[('Home', 'Reset original view', 'home', 'home'), ('Back', 'Back to previous …"
      ]
     },
     "metadata": {},
     "output_type": "display_data"
    },
    {
     "name": "stdout",
     "output_type": "stream",
     "text": [
      "The Smoothing is complete\n",
      "the mean value for k is  1222\n"
     ]
    }
   ],
   "source": [
    "test = DF.where(DF['ClusterId']==0)\n",
    "test = np.array(test)\n",
    "test = test[:,0:-1]\n",
    "test = test[~np.isnan(test)].reshape(-1,newV.shape[1])\n",
    "print(test.shape)\n",
    "#print(np.array(df.loc[3,:]).shape)\n",
    "plt.figure()\n",
    "for i in range(200):\n",
    "    plt.plot(test[i])\n",
    "trap = Generate_Trap_Amps_pre_smoothed_and_loaded(v=test, K=300, GT=300, Tau=12617)"
   ]
  },
  {
   "cell_type": "code",
   "execution_count": 100,
   "id": "3c50cc1a",
   "metadata": {},
   "outputs": [
    {
     "name": "stdout",
     "output_type": "stream",
     "text": [
      "(622, 3000)\n",
      "The Smoothing is complete\n",
      "the mean value for k is  1222\n"
     ]
    },
    {
     "ename": "ValueError",
     "evalue": "operands could not be broadcast together with shapes (2210,) (2800,) ",
     "output_type": "error",
     "traceback": [
      "\u001b[1;31m---------------------------------------------------------------------------\u001b[0m",
      "\u001b[1;31mValueError\u001b[0m                                Traceback (most recent call last)",
      "\u001b[1;32m<ipython-input-100-1e474de3a010>\u001b[0m in \u001b[0;36m<module>\u001b[1;34m\u001b[0m\n\u001b[0;32m      7\u001b[0m \u001b[1;31m# plt.figure()\u001b[0m\u001b[1;33m\u001b[0m\u001b[1;33m\u001b[0m\u001b[1;33m\u001b[0m\u001b[0m\n\u001b[0;32m      8\u001b[0m \u001b[1;31m# plt.plot(test[2])\u001b[0m\u001b[1;33m\u001b[0m\u001b[1;33m\u001b[0m\u001b[1;33m\u001b[0m\u001b[0m\n\u001b[1;32m----> 9\u001b[1;33m \u001b[0mtrap2\u001b[0m \u001b[1;33m=\u001b[0m \u001b[0mGenerate_Trap_Amps_pre_smoothed_and_loaded\u001b[0m\u001b[1;33m(\u001b[0m\u001b[0mv\u001b[0m\u001b[1;33m=\u001b[0m\u001b[0mtest\u001b[0m\u001b[1;33m,\u001b[0m \u001b[0mK\u001b[0m\u001b[1;33m=\u001b[0m\u001b[1;36m800\u001b[0m\u001b[1;33m,\u001b[0m \u001b[0mGT\u001b[0m\u001b[1;33m=\u001b[0m\u001b[1;36m800\u001b[0m\u001b[1;33m,\u001b[0m \u001b[0mTau\u001b[0m\u001b[1;33m=\u001b[0m\u001b[1;36m12617\u001b[0m\u001b[1;33m)\u001b[0m\u001b[1;33m\u001b[0m\u001b[1;33m\u001b[0m\u001b[0m\n\u001b[0m",
      "\u001b[1;32m<ipython-input-73-9e7dc525a5c6>\u001b[0m in \u001b[0;36mGenerate_Trap_Amps_pre_smoothed_and_loaded\u001b[1;34m(v, K, GT, Tau)\u001b[0m\n\u001b[0;32m    175\u001b[0m         \u001b[0mK\u001b[0m \u001b[1;33m=\u001b[0m \u001b[0mK\u001b[0m\u001b[1;33m\u001b[0m\u001b[1;33m\u001b[0m\u001b[0m\n\u001b[0;32m    176\u001b[0m \u001b[1;33m\u001b[0m\u001b[0m\n\u001b[1;32m--> 177\u001b[1;33m     \u001b[0mtrappy\u001b[0m \u001b[1;33m=\u001b[0m \u001b[0mnp\u001b[0m\u001b[1;33m.\u001b[0m\u001b[0marray\u001b[0m\u001b[1;33m(\u001b[0m\u001b[1;33m[\u001b[0m\u001b[0ms\u001b[0m\u001b[1;33m(\u001b[0m\u001b[0msignal\u001b[0m\u001b[1;33m=\u001b[0m\u001b[0mv\u001b[0m\u001b[1;33m[\u001b[0m\u001b[0mn\u001b[0m\u001b[1;33m]\u001b[0m\u001b[1;33m,\u001b[0m \u001b[0mstart_rise\u001b[0m\u001b[1;33m=\u001b[0m\u001b[0mi\u001b[0m\u001b[1;33m[\u001b[0m\u001b[0mn\u001b[0m\u001b[1;33m]\u001b[0m\u001b[1;33m,\u001b[0m \u001b[0mtau\u001b[0m\u001b[1;33m=\u001b[0m\u001b[0mTau\u001b[0m\u001b[1;33m,\u001b[0m \u001b[0mpeaking_time\u001b[0m\u001b[1;33m=\u001b[0m\u001b[0mK\u001b[0m\u001b[1;33m,\u001b[0m\u001b[0mgap_time\u001b[0m\u001b[1;33m=\u001b[0m\u001b[0mGT\u001b[0m\u001b[1;33m)\u001b[0m \u001b[1;32mfor\u001b[0m \u001b[0mn\u001b[0m \u001b[1;32min\u001b[0m \u001b[0mrange\u001b[0m\u001b[1;33m(\u001b[0m\u001b[0mDL\u001b[0m\u001b[1;33m)\u001b[0m\u001b[1;33m]\u001b[0m\u001b[1;33m)\u001b[0m\u001b[1;33m\u001b[0m\u001b[1;33m\u001b[0m\u001b[0m\n\u001b[0m\u001b[0;32m    178\u001b[0m \u001b[1;33m\u001b[0m\u001b[0m\n\u001b[0;32m    179\u001b[0m     \u001b[0mY\u001b[0m \u001b[1;33m=\u001b[0m \u001b[1;33m[\u001b[0m\u001b[1;33m]\u001b[0m\u001b[1;33m\u001b[0m\u001b[1;33m\u001b[0m\u001b[0m\n",
      "\u001b[1;32m<ipython-input-73-9e7dc525a5c6>\u001b[0m in \u001b[0;36m<listcomp>\u001b[1;34m(.0)\u001b[0m\n\u001b[0;32m    175\u001b[0m         \u001b[0mK\u001b[0m \u001b[1;33m=\u001b[0m \u001b[0mK\u001b[0m\u001b[1;33m\u001b[0m\u001b[1;33m\u001b[0m\u001b[0m\n\u001b[0;32m    176\u001b[0m \u001b[1;33m\u001b[0m\u001b[0m\n\u001b[1;32m--> 177\u001b[1;33m     \u001b[0mtrappy\u001b[0m \u001b[1;33m=\u001b[0m \u001b[0mnp\u001b[0m\u001b[1;33m.\u001b[0m\u001b[0marray\u001b[0m\u001b[1;33m(\u001b[0m\u001b[1;33m[\u001b[0m\u001b[0ms\u001b[0m\u001b[1;33m(\u001b[0m\u001b[0msignal\u001b[0m\u001b[1;33m=\u001b[0m\u001b[0mv\u001b[0m\u001b[1;33m[\u001b[0m\u001b[0mn\u001b[0m\u001b[1;33m]\u001b[0m\u001b[1;33m,\u001b[0m \u001b[0mstart_rise\u001b[0m\u001b[1;33m=\u001b[0m\u001b[0mi\u001b[0m\u001b[1;33m[\u001b[0m\u001b[0mn\u001b[0m\u001b[1;33m]\u001b[0m\u001b[1;33m,\u001b[0m \u001b[0mtau\u001b[0m\u001b[1;33m=\u001b[0m\u001b[0mTau\u001b[0m\u001b[1;33m,\u001b[0m \u001b[0mpeaking_time\u001b[0m\u001b[1;33m=\u001b[0m\u001b[0mK\u001b[0m\u001b[1;33m,\u001b[0m\u001b[0mgap_time\u001b[0m\u001b[1;33m=\u001b[0m\u001b[0mGT\u001b[0m\u001b[1;33m)\u001b[0m \u001b[1;32mfor\u001b[0m \u001b[0mn\u001b[0m \u001b[1;32min\u001b[0m \u001b[0mrange\u001b[0m\u001b[1;33m(\u001b[0m\u001b[0mDL\u001b[0m\u001b[1;33m)\u001b[0m\u001b[1;33m]\u001b[0m\u001b[1;33m)\u001b[0m\u001b[1;33m\u001b[0m\u001b[1;33m\u001b[0m\u001b[0m\n\u001b[0m\u001b[0;32m    178\u001b[0m \u001b[1;33m\u001b[0m\u001b[0m\n\u001b[0;32m    179\u001b[0m     \u001b[0mY\u001b[0m \u001b[1;33m=\u001b[0m \u001b[1;33m[\u001b[0m\u001b[1;33m]\u001b[0m\u001b[1;33m\u001b[0m\u001b[1;33m\u001b[0m\u001b[0m\n",
      "\u001b[1;32m<ipython-input-73-9e7dc525a5c6>\u001b[0m in \u001b[0;36ms\u001b[1;34m(signal, start_rise, tau, peaking_time, gap_time, w)\u001b[0m\n\u001b[0;32m     18\u001b[0m         \u001b[0mw\u001b[0m \u001b[1;33m=\u001b[0m \u001b[0mint\u001b[0m\u001b[1;33m(\u001b[0m\u001b[0mround\u001b[0m\u001b[1;33m(\u001b[0m\u001b[1;36m2.5\u001b[0m\u001b[1;33m*\u001b[0m\u001b[0mpeaking_time\u001b[0m\u001b[1;33m+\u001b[0m\u001b[0mgap_time\u001b[0m\u001b[1;33m,\u001b[0m \u001b[1;36m0\u001b[0m\u001b[1;33m)\u001b[0m\u001b[1;33m)\u001b[0m\u001b[1;33m\u001b[0m\u001b[1;33m\u001b[0m\u001b[0m\n\u001b[0;32m     19\u001b[0m     \u001b[0mss\u001b[0m \u001b[1;33m=\u001b[0m \u001b[1;33m[\u001b[0m\u001b[1;33m]\u001b[0m\u001b[1;33m\u001b[0m\u001b[1;33m\u001b[0m\u001b[0m\n\u001b[1;32m---> 20\u001b[1;33m     \u001b[0mdkl_s\u001b[0m \u001b[1;33m=\u001b[0m \u001b[0mdkl\u001b[0m\u001b[1;33m(\u001b[0m\u001b[0msignal\u001b[0m\u001b[1;33m,\u001b[0m \u001b[0mstart_rise\u001b[0m\u001b[1;33m,\u001b[0m \u001b[0mpeaking_time\u001b[0m\u001b[1;33m,\u001b[0m \u001b[0mpeaking_time\u001b[0m\u001b[1;33m+\u001b[0m\u001b[0mgap_time\u001b[0m\u001b[1;33m,\u001b[0m \u001b[0mw\u001b[0m\u001b[1;33m)\u001b[0m\u001b[1;33m\u001b[0m\u001b[1;33m\u001b[0m\u001b[0m\n\u001b[0m\u001b[0;32m     21\u001b[0m     \u001b[1;32mfor\u001b[0m \u001b[0mj\u001b[0m \u001b[1;32min\u001b[0m \u001b[0mrange\u001b[0m\u001b[1;33m(\u001b[0m\u001b[0mw\u001b[0m\u001b[1;33m)\u001b[0m\u001b[1;33m:\u001b[0m\u001b[1;33m\u001b[0m\u001b[1;33m\u001b[0m\u001b[0m\n\u001b[0;32m     22\u001b[0m         \u001b[1;32mif\u001b[0m \u001b[0mj\u001b[0m \u001b[1;33m==\u001b[0m \u001b[1;36m0\u001b[0m\u001b[1;33m:\u001b[0m\u001b[1;33m\u001b[0m\u001b[1;33m\u001b[0m\u001b[0m\n",
      "\u001b[1;32m<ipython-input-73-9e7dc525a5c6>\u001b[0m in \u001b[0;36mdkl\u001b[1;34m(signal, i, k, l, w)\u001b[0m\n\u001b[0;32m     12\u001b[0m     \u001b[0mvjl\u001b[0m \u001b[1;33m=\u001b[0m \u001b[0msignal\u001b[0m\u001b[1;33m[\u001b[0m\u001b[0mi\u001b[0m\u001b[1;33m-\u001b[0m\u001b[0ml\u001b[0m\u001b[1;33m+\u001b[0m\u001b[0mw\u001b[0m\u001b[1;33m:\u001b[0m\u001b[0mi\u001b[0m\u001b[1;33m+\u001b[0m\u001b[0mw\u001b[0m\u001b[1;33m+\u001b[0m\u001b[0mw\u001b[0m\u001b[1;33m-\u001b[0m\u001b[0ml\u001b[0m\u001b[1;33m]\u001b[0m\u001b[1;33m\u001b[0m\u001b[1;33m\u001b[0m\u001b[0m\n\u001b[0;32m     13\u001b[0m     \u001b[0mvjkl\u001b[0m \u001b[1;33m=\u001b[0m \u001b[0msignal\u001b[0m\u001b[1;33m[\u001b[0m\u001b[0mi\u001b[0m\u001b[1;33m-\u001b[0m\u001b[0mk\u001b[0m\u001b[1;33m-\u001b[0m\u001b[0ml\u001b[0m\u001b[1;33m+\u001b[0m\u001b[0mw\u001b[0m\u001b[1;33m:\u001b[0m\u001b[0mi\u001b[0m\u001b[1;33m+\u001b[0m\u001b[0mw\u001b[0m\u001b[1;33m+\u001b[0m\u001b[0mw\u001b[0m\u001b[1;33m-\u001b[0m\u001b[0mk\u001b[0m\u001b[1;33m-\u001b[0m\u001b[0ml\u001b[0m\u001b[1;33m]\u001b[0m\u001b[1;33m\u001b[0m\u001b[1;33m\u001b[0m\u001b[0m\n\u001b[1;32m---> 14\u001b[1;33m     \u001b[1;32mreturn\u001b[0m \u001b[0mvj\u001b[0m \u001b[1;33m-\u001b[0m \u001b[0mvjk\u001b[0m \u001b[1;33m-\u001b[0m \u001b[0mvjl\u001b[0m \u001b[1;33m+\u001b[0m \u001b[0mvjkl\u001b[0m\u001b[1;33m\u001b[0m\u001b[1;33m\u001b[0m\u001b[0m\n\u001b[0m\u001b[0;32m     15\u001b[0m \u001b[1;33m\u001b[0m\u001b[0m\n\u001b[0;32m     16\u001b[0m \u001b[1;32mdef\u001b[0m \u001b[0ms\u001b[0m\u001b[1;33m(\u001b[0m\u001b[0msignal\u001b[0m\u001b[1;33m,\u001b[0m \u001b[0mstart_rise\u001b[0m\u001b[1;33m,\u001b[0m \u001b[0mtau\u001b[0m\u001b[1;33m,\u001b[0m \u001b[0mpeaking_time\u001b[0m\u001b[1;33m,\u001b[0m \u001b[0mgap_time\u001b[0m\u001b[1;33m,\u001b[0m \u001b[0mw\u001b[0m\u001b[1;33m=\u001b[0m\u001b[1;36m0\u001b[0m\u001b[1;33m)\u001b[0m\u001b[1;33m:\u001b[0m\u001b[1;33m\u001b[0m\u001b[1;33m\u001b[0m\u001b[0m\n",
      "\u001b[1;31mValueError\u001b[0m: operands could not be broadcast together with shapes (2210,) (2800,) "
     ]
    }
   ],
   "source": [
    "test = DF.where(DF['ClusterId']==4)\n",
    "test = np.array(test)\n",
    "test = test[:,0:-1]\n",
    "test = test[~np.isnan(test)].reshape(-1,newV.shape[1])\n",
    "print(test.shape)\n",
    "#print(np.array(df.loc[3,:]).shape)\n",
    "# plt.figure()\n",
    "# plt.plot(test[2])\n",
    "trap2 = Generate_Trap_Amps_pre_smoothed_and_loaded(v=test, K=800, GT=800, Tau=12617)"
   ]
  },
  {
   "cell_type": "code",
   "execution_count": 115,
   "id": "266a992f",
   "metadata": {},
   "outputs": [
    {
     "data": {
      "application/vnd.jupyter.widget-view+json": {
       "model_id": "27444403a7324f9f96d5b98dc247b862",
       "version_major": 2,
       "version_minor": 0
      },
      "text/plain": [
       "Canvas(toolbar=Toolbar(toolitems=[('Home', 'Reset original view', 'home', 'home'), ('Back', 'Back to previous …"
      ]
     },
     "metadata": {},
     "output_type": "display_data"
    },
    {
     "name": "stdout",
     "output_type": "stream",
     "text": [
      "The res is  0.45187628837720806\n"
     ]
    },
    {
     "data": {
      "application/vnd.jupyter.widget-view+json": {
       "model_id": "1837159e31da4094baccd58741ed2a04",
       "version_major": 2,
       "version_minor": 0
      },
      "text/plain": [
       "Canvas(toolbar=Toolbar(toolitems=[('Home', 'Reset original view', 'home', 'home'), ('Back', 'Back to previous …"
      ]
     },
     "metadata": {},
     "output_type": "display_data"
    },
    {
     "data": {
      "text/plain": [
       "(array([186897.01389421]), array([358.64451352]))"
      ]
     },
     "execution_count": 115,
     "metadata": {},
     "output_type": "execute_result"
    }
   ],
   "source": [
    "%matplotlib widget\n",
    "plt.figure()\n",
    "plt.hist(trap,bins=100)\n",
    "plt.show()\n",
    "# plt.figure()\n",
    "# plt.hist(trap2,bins=100)\n",
    "# plt.show()\n",
    "binwidth = 400\n",
    "mu = np.mean(trap)\n",
    "mut = 185563.15\n",
    "delmu = mu - mut\n",
    "if delmu<0:\n",
    "    shift = -delmu\n",
    "if delmu>0:\n",
    "    shift = delmu\n",
    "\n",
    "Get_Hist_Mus_calibrated_V1(Y=trap+shift,Upperlimit=1.95E+05,Del=8000,Source='Cs137',num_peaks=1,\n",
    "                           Bin_Arr = 300)\n",
    "#Get_Hist_Mus_calibrated_V2(Y=trap+shift,Upperlimit=1.95E+05,Del=8000,Source='Cs137',Calb=ECalb,num_peaks=1)"
   ]
  },
  {
   "cell_type": "markdown",
   "id": "657eda2a",
   "metadata": {},
   "source": [
    "## Make an array from [0:nclusters:1]"
   ]
  },
  {
   "cell_type": "code",
   "execution_count": 107,
   "id": "8020c903",
   "metadata": {},
   "outputs": [],
   "source": [
    "Clusters = np.arange(0,10,1)\n",
    "C = DF.where(DF['ClusterId']==3)\n",
    "C = np.array(C)\n",
    "C = C[:,0:-1]\n",
    "C = C[~np.isnan(C)].reshape(-1,newV.shape[1])\n",
    "\n",
    "C1 = DF.where(DF['ClusterId']==6)\n",
    "C1 = np.array(C1)\n",
    "C1 = C1[:,0:-1]\n",
    "C1 = C1[~np.isnan(C1)].reshape(-1,newV.shape[1])"
   ]
  },
  {
   "cell_type": "code",
   "execution_count": 37,
   "id": "222d7abf",
   "metadata": {},
   "outputs": [
    {
     "name": "stdout",
     "output_type": "stream",
     "text": [
      "(460, 2000)\n",
      "(553, 2000)\n"
     ]
    },
    {
     "data": {
      "application/vnd.jupyter.widget-view+json": {
       "model_id": "f00113e8e21b438dbb9351ec9fb7013b",
       "version_major": 2,
       "version_minor": 0
      },
      "text/plain": [
       "Canvas(toolbar=Toolbar(toolitems=[('Home', 'Reset original view', 'home', 'home'), ('Back', 'Back to previous …"
      ]
     },
     "metadata": {},
     "output_type": "display_data"
    },
    {
     "data": {
      "application/vnd.jupyter.widget-view+json": {
       "model_id": "bce18d6b6aac45a2a52de07e1af9568e",
       "version_major": 2,
       "version_minor": 0
      },
      "text/plain": [
       "Canvas(toolbar=Toolbar(toolitems=[('Home', 'Reset original view', 'home', 'home'), ('Back', 'Back to previous …"
      ]
     },
     "metadata": {},
     "output_type": "display_data"
    }
   ],
   "source": [
    "print(C.shape)\n",
    "print(C1.shape)\n",
    "plt.figure()\n",
    "for i in range(C.shape[0]):\n",
    "    plt.plot(C[i])\n",
    "    \n",
    "plt.figure()\n",
    "for i in range(C1.shape[0]):\n",
    "    plt.plot(C1[i])"
   ]
  },
  {
   "cell_type": "markdown",
   "id": "b6b2796f",
   "metadata": {},
   "source": [
    "# Define the function that will be used to calculate the resolution for the (hopefully optimized) trapezoidal histogram distribution."
   ]
  },
  {
   "cell_type": "code",
   "execution_count": 126,
   "id": "dfa515f2",
   "metadata": {},
   "outputs": [],
   "source": [
    "def Generate_K_Means_Traps(v, K, GT, Tau):\n",
    "    Rise_Info = only_get_rise(v)\n",
    "    #Signals_Smooth, Rise_Info = Filter_Signals_Get_Rise(Data,times)\n",
    "    #print('The Smoothing is complete')\n",
    "    DL = v.shape[0]\n",
    "    #Rise_Info = np.array([get_kv2(Signals_Smooth[n]) for n in range(Data.shape[0])])\n",
    "    k = Rise_Info[:,2] # rise time\n",
    "    r = Rise_Info[:,1] # end rise\n",
    "    i = Rise_Info[:,0] # start rise\n",
    "    mean_k = int(np.mean(k)) # mean rise time\n",
    "#     print('the mean value for k is ',mean_k)\n",
    "#     print(r)\n",
    "    if K == 0:\n",
    "        K = mean_k\n",
    "    else:\n",
    "        K = K\n",
    "    \n",
    "    trappy = np.array([s(signal=v[n], start_rise=i[n], tau=Tau, peaking_time=K,gap_time=GT) for n in range(DL)])\n",
    "    \n",
    "    Yt = []\n",
    "    for n in range(DL):\n",
    "        Yt.append(np.max(trappy[n]))\n",
    "    Yt = np.array(Yt)\n",
    "    \n",
    "    return Yt\n",
    "\n",
    "def Get_Hist_Mus_calibrated_VF(Y,Upperlimit,Del,Source,Calb,num_peaks, v, K, GT, Tau):\n",
    "    Y = Generate_K_Means_Traps(v, K, GT, Tau)\n",
    "    mu = np.mean(Y)\n",
    "    mut = 185563.15\n",
    "    delmu = mu - mut\n",
    "    if delmu<0:\n",
    "        shift = -delmu\n",
    "    if delmu>0:\n",
    "        shift = delmu\n",
    "    Y = Y + shift\n",
    "    Cond1 = Y>Upperlimit\n",
    "    Y[Cond1] = 0\n",
    "    # Create 2x2 sub plots\n",
    "    if Source == 'Th228':\n",
    "        Cond2 = Y<6.0E+04\n",
    "        Y[Cond2] = 0\n",
    "    \n",
    "    H, binz = np.histogram(Y,bins=300) # was 2**11\n",
    "    Del = Energy_Func(Del,*Calb)\n",
    "    binz = Energy_Func(binz,*Calb)\n",
    "#     peaks, _ = find_peaks(H[2:-1], height=np.argmax(H[2:-1]))\n",
    "#     bin_peaks = np.sort(binz[peaks])\n",
    "    Mus = []\n",
    "    Resz = []\n",
    "    ind = []\n",
    "    ind.append(binz[np.argmax(H[10:-1])])\n",
    "    H_mod = np.copy(H)\n",
    "    for i in range(num_peaks-1):\n",
    "        Max_Ind = np.argmax(H_mod[10:-1])\n",
    "        Max_Ind = binz[Max_Ind]\n",
    "        H_mod, Peak = Reduce_Histo(H=H_mod, binz=binz, Ind=Max_Ind, Del=Del)\n",
    "        ind.append(binz[Peak])\n",
    "\n",
    "    for n in range(len(ind)):\n",
    "        x1,x2 = ind[n]-Del, ind[n]+Del\n",
    "        b0 = np.argmin(np.abs(binz - x1))\n",
    "        b1 = np.argmin(np.abs(binz - x2))\n",
    "        fp = gauss_fit(binz[b0:b1], H[b0:b1])\n",
    "        offset, A, mu, std = fp\n",
    "        Res = 2*np.sqrt(2*np.log(2))*100*std/mu\n",
    "        Resz.append(Res)\n",
    "        if Res<5:\n",
    "            Mus.append(mu)\n",
    "        #print('The res is ',Res)\n",
    "    return np.array(Mus), np.array(Resz)\n"
   ]
  },
  {
   "cell_type": "code",
   "execution_count": 129,
   "id": "d978a049",
   "metadata": {},
   "outputs": [
    {
     "name": "stdout",
     "output_type": "stream",
     "text": [
      "       Gaps     Ks\n",
      "0     300.0  300.0\n",
      "1     300.0  310.0\n",
      "2     300.0  320.0\n",
      "3     300.0  330.0\n",
      "4     300.0  340.0\n",
      "...     ...    ...\n",
      "2596  800.0  760.0\n",
      "2597  800.0  770.0\n",
      "2598  800.0  780.0\n",
      "2599  800.0  790.0\n",
      "2600  800.0  800.0\n",
      "\n",
      "[2601 rows x 2 columns]\n"
     ]
    }
   ],
   "source": [
    "Gaps = np.arange(300,810,10)# was 200 to 810\n",
    "Ks = np.arange(300,810,10)\n",
    "inds = np.ones((len(Ks)**2,2))\n",
    "counter = 0\n",
    "Df = pd.DataFrame(inds, columns=['Gaps', 'Ks'])\n",
    "for i in range(len(Gaps)):\n",
    "    for j in range(len(Ks)):\n",
    "        Df['Gaps'][counter]=Gaps[i]\n",
    "        Df['Ks'][counter]=Ks[j]\n",
    "        counter+=1\n",
    "        if counter == len(Ks)**2:\n",
    "            break\n",
    "print(Df)"
   ]
  },
  {
   "cell_type": "markdown",
   "id": "e22a90a9",
   "metadata": {},
   "source": [
    "# We will need two loops. One will iterate through all of the gap and k values. The outer loop will iterate through each clustered group. At the end of the day, each clustered group will have a number of calculated resolutions that depend on the k and gap times. As such, it makes sense to create ncluster different dataframes. They need to be de-coupled since the pixel-to-pixel-resolution of each frame might change depending on whether we can sucessfully calculate a resolution for each cluster at specific (k,gap) valued pairs."
   ]
  },
  {
   "cell_type": "code",
   "execution_count": 45,
   "id": "138a2081",
   "metadata": {},
   "outputs": [
    {
     "name": "stdout",
     "output_type": "stream",
     "text": [
      "   Success Mask  Res\n",
      "0             1    3\n",
      "1             2    4\n"
     ]
    }
   ],
   "source": [
    "a1 = np.array([1,2])\n",
    "a2 = np.array([3,4])\n",
    "DF={}\n",
    "DF['a1']=a1\n",
    "DF['a2']=a2\n",
    "sio.savemat('testdf.mat',DF)\n",
    "print(d)\n"
   ]
  },
  {
   "cell_type": "code",
   "execution_count": 134,
   "id": "c9319006",
   "metadata": {
    "scrolled": true
   },
   "outputs": [
    {
     "name": "stdout",
     "output_type": "stream",
     "text": [
      "[   0    1    2 ... 2599 2600 2601]\n"
     ]
    },
    {
     "data": {
      "application/vnd.jupyter.widget-view+json": {
       "model_id": "",
       "version_major": 2,
       "version_minor": 0
      },
      "text/plain": [
       "  0%|          | 0/2602 [00:00<?, ?it/s]"
      ]
     },
     "metadata": {},
     "output_type": "display_data"
    },
    {
     "data": {
      "application/vnd.jupyter.widget-view+json": {
       "model_id": "",
       "version_major": 2,
       "version_minor": 0
      },
      "text/plain": [
       "  0%|          | 0/2602 [00:00<?, ?it/s]"
      ]
     },
     "metadata": {},
     "output_type": "display_data"
    },
    {
     "data": {
      "application/vnd.jupyter.widget-view+json": {
       "model_id": "",
       "version_major": 2,
       "version_minor": 0
      },
      "text/plain": [
       "  0%|          | 0/2602 [00:00<?, ?it/s]"
      ]
     },
     "metadata": {},
     "output_type": "display_data"
    },
    {
     "data": {
      "application/vnd.jupyter.widget-view+json": {
       "model_id": "",
       "version_major": 2,
       "version_minor": 0
      },
      "text/plain": [
       "  0%|          | 0/2602 [00:00<?, ?it/s]"
      ]
     },
     "metadata": {},
     "output_type": "display_data"
    },
    {
     "data": {
      "application/vnd.jupyter.widget-view+json": {
       "model_id": "",
       "version_major": 2,
       "version_minor": 0
      },
      "text/plain": [
       "  0%|          | 0/2602 [00:00<?, ?it/s]"
      ]
     },
     "metadata": {},
     "output_type": "display_data"
    },
    {
     "data": {
      "application/vnd.jupyter.widget-view+json": {
       "model_id": "",
       "version_major": 2,
       "version_minor": 0
      },
      "text/plain": [
       "  0%|          | 0/2602 [00:00<?, ?it/s]"
      ]
     },
     "metadata": {},
     "output_type": "display_data"
    },
    {
     "data": {
      "application/vnd.jupyter.widget-view+json": {
       "model_id": "",
       "version_major": 2,
       "version_minor": 0
      },
      "text/plain": [
       "  0%|          | 0/2602 [00:00<?, ?it/s]"
      ]
     },
     "metadata": {},
     "output_type": "display_data"
    },
    {
     "data": {
      "application/vnd.jupyter.widget-view+json": {
       "model_id": "",
       "version_major": 2,
       "version_minor": 0
      },
      "text/plain": [
       "  0%|          | 0/2602 [00:00<?, ?it/s]"
      ]
     },
     "metadata": {},
     "output_type": "display_data"
    },
    {
     "data": {
      "application/vnd.jupyter.widget-view+json": {
       "model_id": "",
       "version_major": 2,
       "version_minor": 0
      },
      "text/plain": [
       "  0%|          | 0/2602 [00:00<?, ?it/s]"
      ]
     },
     "metadata": {},
     "output_type": "display_data"
    },
    {
     "data": {
      "application/vnd.jupyter.widget-view+json": {
       "model_id": "411f87982c4f48cab48aaee7783be1dc",
       "version_major": 2,
       "version_minor": 0
      },
      "text/plain": [
       "  0%|          | 0/2602 [00:00<?, ?it/s]"
      ]
     },
     "metadata": {},
     "output_type": "display_data"
    },
    {
     "ename": "KeyboardInterrupt",
     "evalue": "",
     "output_type": "error",
     "traceback": [
      "\u001b[1;31m---------------------------------------------------------------------------\u001b[0m",
      "\u001b[1;31mKeyboardInterrupt\u001b[0m                         Traceback (most recent call last)",
      "\u001b[1;32m<ipython-input-134-81b0e1c2157e>\u001b[0m in \u001b[0;36m<module>\u001b[1;34m\u001b[0m\n\u001b[0;32m     17\u001b[0m     \u001b[1;31m#for n in N:\u001b[0m\u001b[1;33m\u001b[0m\u001b[1;33m\u001b[0m\u001b[1;33m\u001b[0m\u001b[0m\n\u001b[0;32m     18\u001b[0m         \u001b[1;32mtry\u001b[0m\u001b[1;33m:\u001b[0m\u001b[1;33m\u001b[0m\u001b[1;33m\u001b[0m\u001b[0m\n\u001b[1;32m---> 19\u001b[1;33m             _,stdres = Get_Hist_Mus_calibrated_VF(Y=0,Upperlimit=1.95E+05,Del=8000,Source='Cs137',\n\u001b[0m\u001b[0;32m     20\u001b[0m                                                   \u001b[0mCalb\u001b[0m\u001b[1;33m=\u001b[0m\u001b[0mECalb\u001b[0m\u001b[1;33m,\u001b[0m\u001b[0mnum_peaks\u001b[0m\u001b[1;33m=\u001b[0m\u001b[1;36m1\u001b[0m\u001b[1;33m,\u001b[0m \u001b[0mv\u001b[0m\u001b[1;33m=\u001b[0m\u001b[0mC\u001b[0m\u001b[1;33m,\u001b[0m \u001b[0mK\u001b[0m\u001b[1;33m=\u001b[0m\u001b[0mint\u001b[0m\u001b[1;33m(\u001b[0m\u001b[0mDf\u001b[0m\u001b[1;33m[\u001b[0m\u001b[1;34m'Ks'\u001b[0m\u001b[1;33m]\u001b[0m\u001b[1;33m[\u001b[0m\u001b[0mn\u001b[0m\u001b[1;33m]\u001b[0m\u001b[1;33m)\u001b[0m\u001b[1;33m,\u001b[0m \u001b[0mGT\u001b[0m\u001b[1;33m=\u001b[0m\u001b[0mint\u001b[0m\u001b[1;33m(\u001b[0m\u001b[0mDf\u001b[0m\u001b[1;33m[\u001b[0m\u001b[1;34m'Gaps'\u001b[0m\u001b[1;33m]\u001b[0m\u001b[1;33m[\u001b[0m\u001b[0mn\u001b[0m\u001b[1;33m]\u001b[0m\u001b[1;33m)\u001b[0m\u001b[1;33m,\u001b[0m\u001b[1;33m\u001b[0m\u001b[1;33m\u001b[0m\u001b[0m\n\u001b[0;32m     21\u001b[0m                                                   Tau=12617)\n",
      "\u001b[1;32m<ipython-input-126-d4800678d487>\u001b[0m in \u001b[0;36mGet_Hist_Mus_calibrated_VF\u001b[1;34m(Y, Upperlimit, Del, Source, Calb, num_peaks, v, K, GT, Tau)\u001b[0m\n\u001b[0;32m     26\u001b[0m \u001b[1;33m\u001b[0m\u001b[0m\n\u001b[0;32m     27\u001b[0m \u001b[1;32mdef\u001b[0m \u001b[0mGet_Hist_Mus_calibrated_VF\u001b[0m\u001b[1;33m(\u001b[0m\u001b[0mY\u001b[0m\u001b[1;33m,\u001b[0m\u001b[0mUpperlimit\u001b[0m\u001b[1;33m,\u001b[0m\u001b[0mDel\u001b[0m\u001b[1;33m,\u001b[0m\u001b[0mSource\u001b[0m\u001b[1;33m,\u001b[0m\u001b[0mCalb\u001b[0m\u001b[1;33m,\u001b[0m\u001b[0mnum_peaks\u001b[0m\u001b[1;33m,\u001b[0m \u001b[0mv\u001b[0m\u001b[1;33m,\u001b[0m \u001b[0mK\u001b[0m\u001b[1;33m,\u001b[0m \u001b[0mGT\u001b[0m\u001b[1;33m,\u001b[0m \u001b[0mTau\u001b[0m\u001b[1;33m)\u001b[0m\u001b[1;33m:\u001b[0m\u001b[1;33m\u001b[0m\u001b[1;33m\u001b[0m\u001b[0m\n\u001b[1;32m---> 28\u001b[1;33m     \u001b[0mY\u001b[0m \u001b[1;33m=\u001b[0m \u001b[0mGenerate_K_Means_Traps\u001b[0m\u001b[1;33m(\u001b[0m\u001b[0mv\u001b[0m\u001b[1;33m,\u001b[0m \u001b[0mK\u001b[0m\u001b[1;33m,\u001b[0m \u001b[0mGT\u001b[0m\u001b[1;33m,\u001b[0m \u001b[0mTau\u001b[0m\u001b[1;33m)\u001b[0m\u001b[1;33m\u001b[0m\u001b[1;33m\u001b[0m\u001b[0m\n\u001b[0m\u001b[0;32m     29\u001b[0m     \u001b[0mmu\u001b[0m \u001b[1;33m=\u001b[0m \u001b[0mnp\u001b[0m\u001b[1;33m.\u001b[0m\u001b[0mmean\u001b[0m\u001b[1;33m(\u001b[0m\u001b[0mY\u001b[0m\u001b[1;33m)\u001b[0m\u001b[1;33m\u001b[0m\u001b[1;33m\u001b[0m\u001b[0m\n\u001b[0;32m     30\u001b[0m     \u001b[0mmut\u001b[0m \u001b[1;33m=\u001b[0m \u001b[1;36m185563.15\u001b[0m\u001b[1;33m\u001b[0m\u001b[1;33m\u001b[0m\u001b[0m\n",
      "\u001b[1;32m<ipython-input-126-d4800678d487>\u001b[0m in \u001b[0;36mGenerate_K_Means_Traps\u001b[1;34m(v, K, GT, Tau)\u001b[0m\n\u001b[0;32m      1\u001b[0m \u001b[1;32mdef\u001b[0m \u001b[0mGenerate_K_Means_Traps\u001b[0m\u001b[1;33m(\u001b[0m\u001b[0mv\u001b[0m\u001b[1;33m,\u001b[0m \u001b[0mK\u001b[0m\u001b[1;33m,\u001b[0m \u001b[0mGT\u001b[0m\u001b[1;33m,\u001b[0m \u001b[0mTau\u001b[0m\u001b[1;33m)\u001b[0m\u001b[1;33m:\u001b[0m\u001b[1;33m\u001b[0m\u001b[1;33m\u001b[0m\u001b[0m\n\u001b[1;32m----> 2\u001b[1;33m     \u001b[0mRise_Info\u001b[0m \u001b[1;33m=\u001b[0m \u001b[0monly_get_rise\u001b[0m\u001b[1;33m(\u001b[0m\u001b[0mv\u001b[0m\u001b[1;33m)\u001b[0m\u001b[1;33m\u001b[0m\u001b[1;33m\u001b[0m\u001b[0m\n\u001b[0m\u001b[0;32m      3\u001b[0m     \u001b[1;31m#Signals_Smooth, Rise_Info = Filter_Signals_Get_Rise(Data,times)\u001b[0m\u001b[1;33m\u001b[0m\u001b[1;33m\u001b[0m\u001b[1;33m\u001b[0m\u001b[0m\n\u001b[0;32m      4\u001b[0m     \u001b[1;31m#print('The Smoothing is complete')\u001b[0m\u001b[1;33m\u001b[0m\u001b[1;33m\u001b[0m\u001b[1;33m\u001b[0m\u001b[0m\n\u001b[0;32m      5\u001b[0m     \u001b[0mDL\u001b[0m \u001b[1;33m=\u001b[0m \u001b[0mv\u001b[0m\u001b[1;33m.\u001b[0m\u001b[0mshape\u001b[0m\u001b[1;33m[\u001b[0m\u001b[1;36m0\u001b[0m\u001b[1;33m]\u001b[0m\u001b[1;33m\u001b[0m\u001b[1;33m\u001b[0m\u001b[0m\n",
      "\u001b[1;32m<ipython-input-132-3956ab58ea2a>\u001b[0m in \u001b[0;36monly_get_rise\u001b[1;34m(v)\u001b[0m\n\u001b[0;32m     65\u001b[0m     \u001b[0mRise_Info\u001b[0m \u001b[1;33m=\u001b[0m \u001b[1;33m[\u001b[0m\u001b[1;33m]\u001b[0m\u001b[1;33m\u001b[0m\u001b[1;33m\u001b[0m\u001b[0m\n\u001b[0;32m     66\u001b[0m     \u001b[1;32mfor\u001b[0m \u001b[0mn\u001b[0m \u001b[1;32min\u001b[0m \u001b[0mrange\u001b[0m\u001b[1;33m(\u001b[0m\u001b[0mv\u001b[0m\u001b[1;33m.\u001b[0m\u001b[0mshape\u001b[0m\u001b[1;33m[\u001b[0m\u001b[1;36m0\u001b[0m\u001b[1;33m]\u001b[0m\u001b[1;33m)\u001b[0m\u001b[1;33m:\u001b[0m\u001b[1;33m\u001b[0m\u001b[1;33m\u001b[0m\u001b[0m\n\u001b[1;32m---> 67\u001b[1;33m         \u001b[0mRise_Info\u001b[0m\u001b[1;33m.\u001b[0m\u001b[0mappend\u001b[0m\u001b[1;33m(\u001b[0m\u001b[0mget_kv2\u001b[0m\u001b[1;33m(\u001b[0m\u001b[0mv\u001b[0m\u001b[1;33m[\u001b[0m\u001b[0mn\u001b[0m\u001b[1;33m]\u001b[0m\u001b[1;33m)\u001b[0m\u001b[1;33m)\u001b[0m\u001b[1;33m\u001b[0m\u001b[1;33m\u001b[0m\u001b[0m\n\u001b[0m\u001b[0;32m     68\u001b[0m     \u001b[1;32mreturn\u001b[0m \u001b[0mnp\u001b[0m\u001b[1;33m.\u001b[0m\u001b[0marray\u001b[0m\u001b[1;33m(\u001b[0m\u001b[0mRise_Info\u001b[0m\u001b[1;33m)\u001b[0m\u001b[1;33m\u001b[0m\u001b[1;33m\u001b[0m\u001b[0m\n\u001b[0;32m     69\u001b[0m \u001b[1;33m\u001b[0m\u001b[0m\n",
      "\u001b[1;32m<ipython-input-132-3956ab58ea2a>\u001b[0m in \u001b[0;36mget_kv2\u001b[1;34m(v)\u001b[0m\n\u001b[0;32m     27\u001b[0m \u001b[1;33m\u001b[0m\u001b[0m\n\u001b[0;32m     28\u001b[0m \u001b[1;32mdef\u001b[0m \u001b[0mget_kv2\u001b[0m\u001b[1;33m(\u001b[0m\u001b[0mv\u001b[0m\u001b[1;33m)\u001b[0m\u001b[1;33m:\u001b[0m\u001b[1;33m\u001b[0m\u001b[1;33m\u001b[0m\u001b[0m\n\u001b[1;32m---> 29\u001b[1;33m     \u001b[0mMax_Ind\u001b[0m \u001b[1;33m=\u001b[0m \u001b[0mnp\u001b[0m\u001b[1;33m.\u001b[0m\u001b[0margmax\u001b[0m\u001b[1;33m(\u001b[0m\u001b[0mv\u001b[0m\u001b[1;33m)\u001b[0m\u001b[1;33m\u001b[0m\u001b[1;33m\u001b[0m\u001b[0m\n\u001b[0m\u001b[0;32m     30\u001b[0m     \u001b[0mstep\u001b[0m \u001b[1;33m=\u001b[0m \u001b[1;36m10\u001b[0m\u001b[1;33m\u001b[0m\u001b[1;33m\u001b[0m\u001b[0m\n\u001b[0;32m     31\u001b[0m \u001b[1;31m#     Peak_mu = np.mean(v[Max_Ind:Max_Ind+step])\u001b[0m\u001b[1;33m\u001b[0m\u001b[1;33m\u001b[0m\u001b[1;33m\u001b[0m\u001b[0m\n",
      "\u001b[1;32m<__array_function__ internals>\u001b[0m in \u001b[0;36margmax\u001b[1;34m(*args, **kwargs)\u001b[0m\n",
      "\u001b[1;32m~\\anaconda3\\lib\\site-packages\\numpy\\core\\fromnumeric.py\u001b[0m in \u001b[0;36margmax\u001b[1;34m(a, axis, out)\u001b[0m\n\u001b[0;32m   1191\u001b[0m \u001b[1;33m\u001b[0m\u001b[0m\n\u001b[0;32m   1192\u001b[0m     \"\"\"\n\u001b[1;32m-> 1193\u001b[1;33m     \u001b[1;32mreturn\u001b[0m \u001b[0m_wrapfunc\u001b[0m\u001b[1;33m(\u001b[0m\u001b[0ma\u001b[0m\u001b[1;33m,\u001b[0m \u001b[1;34m'argmax'\u001b[0m\u001b[1;33m,\u001b[0m \u001b[0maxis\u001b[0m\u001b[1;33m=\u001b[0m\u001b[0maxis\u001b[0m\u001b[1;33m,\u001b[0m \u001b[0mout\u001b[0m\u001b[1;33m=\u001b[0m\u001b[0mout\u001b[0m\u001b[1;33m)\u001b[0m\u001b[1;33m\u001b[0m\u001b[1;33m\u001b[0m\u001b[0m\n\u001b[0m\u001b[0;32m   1194\u001b[0m \u001b[1;33m\u001b[0m\u001b[0m\n\u001b[0;32m   1195\u001b[0m \u001b[1;33m\u001b[0m\u001b[0m\n",
      "\u001b[1;32m~\\anaconda3\\lib\\site-packages\\numpy\\core\\fromnumeric.py\u001b[0m in \u001b[0;36m_wrapfunc\u001b[1;34m(obj, method, *args, **kwds)\u001b[0m\n\u001b[0;32m     56\u001b[0m \u001b[1;33m\u001b[0m\u001b[0m\n\u001b[0;32m     57\u001b[0m     \u001b[1;32mtry\u001b[0m\u001b[1;33m:\u001b[0m\u001b[1;33m\u001b[0m\u001b[1;33m\u001b[0m\u001b[0m\n\u001b[1;32m---> 58\u001b[1;33m         \u001b[1;32mreturn\u001b[0m \u001b[0mbound\u001b[0m\u001b[1;33m(\u001b[0m\u001b[1;33m*\u001b[0m\u001b[0margs\u001b[0m\u001b[1;33m,\u001b[0m \u001b[1;33m**\u001b[0m\u001b[0mkwds\u001b[0m\u001b[1;33m)\u001b[0m\u001b[1;33m\u001b[0m\u001b[1;33m\u001b[0m\u001b[0m\n\u001b[0m\u001b[0;32m     59\u001b[0m     \u001b[1;32mexcept\u001b[0m \u001b[0mTypeError\u001b[0m\u001b[1;33m:\u001b[0m\u001b[1;33m\u001b[0m\u001b[1;33m\u001b[0m\u001b[0m\n\u001b[0;32m     60\u001b[0m         \u001b[1;31m# A TypeError occurs if the object does have such a method in its\u001b[0m\u001b[1;33m\u001b[0m\u001b[1;33m\u001b[0m\u001b[1;33m\u001b[0m\u001b[0m\n",
      "\u001b[1;31mKeyboardInterrupt\u001b[0m: "
     ]
    }
   ],
   "source": [
    "import tqdm.notebook as tq\n",
    "os.chdir(r'C:\\Users\\Curtis\\Documents\\jup\\data\\ClusterV4')\n",
    "N = np.arange(0,len(Ks)**2+1,1)\n",
    "print(N)\n",
    "C = 0\n",
    "d = 0\n",
    "for i in Clusters:\n",
    "    Success_mask = []\n",
    "    Resolutions = []\n",
    "    #print(i)\n",
    "    del C\n",
    "    C = DF.where(DF['ClusterId']==i)\n",
    "    C = np.array(C)\n",
    "    C = C[:,0:-1]\n",
    "    C = C[~np.isnan(C)].reshape(-1,newV.shape[1])\n",
    "    for n in tq.tqdm(N, leave=False):\n",
    "    #for n in N:\n",
    "        try:\n",
    "            _,stdres = Get_Hist_Mus_calibrated_VF(Y=0,Upperlimit=1.95E+05,Del=8000,Source='Cs137',\n",
    "                                                  Calb=ECalb,num_peaks=1, v=C, K=int(Df['Ks'][n]), GT=int(Df['Gaps'][n]), \n",
    "                                                  Tau=12617)\n",
    "            #print('the res is ',stdres)\n",
    "            Success_mask.append(n)\n",
    "            Resolutions.append(stdres)\n",
    "        except Exception:\n",
    "            #print('bad')\n",
    "            pass\n",
    "        #print(n)\n",
    "        \n",
    "    Resolutions = np.array(Resolutions).reshape(-1)\n",
    "    Success_mask = np.array(Success_mask).reshape(-1)\n",
    "    DDF={}\n",
    "    DDF['Success Mask']=Success_mask\n",
    "    DDF['Resolutions']=Resolutions\n",
    "    sio.savemat('Cluster'+str(i)+'.mat',DDF)"
   ]
  },
  {
   "cell_type": "code",
   "execution_count": null,
   "id": "3090c5e1",
   "metadata": {},
   "outputs": [],
   "source": []
  }
 ],
 "metadata": {
  "kernelspec": {
   "display_name": "Python 3 (ipykernel)",
   "language": "python",
   "name": "python3"
  },
  "language_info": {
   "codemirror_mode": {
    "name": "ipython",
    "version": 3
   },
   "file_extension": ".py",
   "mimetype": "text/x-python",
   "name": "python",
   "nbconvert_exporter": "python",
   "pygments_lexer": "ipython3",
   "version": "3.7.7"
  }
 },
 "nbformat": 4,
 "nbformat_minor": 5
}
